{
  "nbformat": 4,
  "nbformat_minor": 0,
  "metadata": {
    "colab": {
      "name": "T-SNE_on_Amazon_fine_food_review.ipynb",
      "provenance": [],
      "collapsed_sections": [
        "-5KvSGYOXYxk",
        "m2oM_1lMd24x"
      ],
      "authorship_tag": "ABX9TyNcbrOCMD8JAJAPISWSQbFQ",
      "include_colab_link": true
    },
    "kernelspec": {
      "display_name": "Python 3",
      "name": "python3"
    },
    "language_info": {
      "name": "python"
    },
    "widgets": {
      "application/vnd.jupyter.widget-state+json": {
        "240f11704f8f496f8630a5471cd7ea51": {
          "model_module": "@jupyter-widgets/controls",
          "model_name": "HBoxModel",
          "state": {
            "_view_name": "HBoxView",
            "_dom_classes": [],
            "_model_name": "HBoxModel",
            "_view_module": "@jupyter-widgets/controls",
            "_model_module_version": "1.5.0",
            "_view_count": null,
            "_view_module_version": "1.5.0",
            "box_style": "",
            "layout": "IPY_MODEL_935ea1f734324cf4b4ff75228f35fd4b",
            "_model_module": "@jupyter-widgets/controls",
            "children": [
              "IPY_MODEL_076f650815d84496a2a0bffa2ee6dc8b",
              "IPY_MODEL_02fa0b0542e541c8808e2c82cf5590d7"
            ]
          }
        },
        "935ea1f734324cf4b4ff75228f35fd4b": {
          "model_module": "@jupyter-widgets/base",
          "model_name": "LayoutModel",
          "state": {
            "_view_name": "LayoutView",
            "grid_template_rows": null,
            "right": null,
            "justify_content": null,
            "_view_module": "@jupyter-widgets/base",
            "overflow": null,
            "_model_module_version": "1.2.0",
            "_view_count": null,
            "flex_flow": null,
            "width": null,
            "min_width": null,
            "border": null,
            "align_items": null,
            "bottom": null,
            "_model_module": "@jupyter-widgets/base",
            "top": null,
            "grid_column": null,
            "overflow_y": null,
            "overflow_x": null,
            "grid_auto_flow": null,
            "grid_area": null,
            "grid_template_columns": null,
            "flex": null,
            "_model_name": "LayoutModel",
            "justify_items": null,
            "grid_row": null,
            "max_height": null,
            "align_content": null,
            "visibility": null,
            "align_self": null,
            "height": null,
            "min_height": null,
            "padding": null,
            "grid_auto_rows": null,
            "grid_gap": null,
            "max_width": null,
            "order": null,
            "_view_module_version": "1.2.0",
            "grid_template_areas": null,
            "object_position": null,
            "object_fit": null,
            "grid_auto_columns": null,
            "margin": null,
            "display": null,
            "left": null
          }
        },
        "076f650815d84496a2a0bffa2ee6dc8b": {
          "model_module": "@jupyter-widgets/controls",
          "model_name": "FloatProgressModel",
          "state": {
            "_view_name": "ProgressView",
            "style": "IPY_MODEL_ac34dff3a8ac4021b1e4d1a27e3eef1f",
            "_dom_classes": [],
            "description": "100%",
            "_model_name": "FloatProgressModel",
            "bar_style": "success",
            "max": 4986,
            "_view_module": "@jupyter-widgets/controls",
            "_model_module_version": "1.5.0",
            "value": 4986,
            "_view_count": null,
            "_view_module_version": "1.5.0",
            "orientation": "horizontal",
            "min": 0,
            "description_tooltip": null,
            "_model_module": "@jupyter-widgets/controls",
            "layout": "IPY_MODEL_9d8a7137c5f845c498eb1313df8b471f"
          }
        },
        "02fa0b0542e541c8808e2c82cf5590d7": {
          "model_module": "@jupyter-widgets/controls",
          "model_name": "HTMLModel",
          "state": {
            "_view_name": "HTMLView",
            "style": "IPY_MODEL_a6023e69a7ca4ed9b54855ad96daf45c",
            "_dom_classes": [],
            "description": "",
            "_model_name": "HTMLModel",
            "placeholder": "​",
            "_view_module": "@jupyter-widgets/controls",
            "_model_module_version": "1.5.0",
            "value": " 4986/4986 [20:47&lt;00:00,  4.00it/s]",
            "_view_count": null,
            "_view_module_version": "1.5.0",
            "description_tooltip": null,
            "_model_module": "@jupyter-widgets/controls",
            "layout": "IPY_MODEL_b168859975e54e89bd6759bb148c2a09"
          }
        },
        "ac34dff3a8ac4021b1e4d1a27e3eef1f": {
          "model_module": "@jupyter-widgets/controls",
          "model_name": "ProgressStyleModel",
          "state": {
            "_view_name": "StyleView",
            "_model_name": "ProgressStyleModel",
            "description_width": "initial",
            "_view_module": "@jupyter-widgets/base",
            "_model_module_version": "1.5.0",
            "_view_count": null,
            "_view_module_version": "1.2.0",
            "bar_color": null,
            "_model_module": "@jupyter-widgets/controls"
          }
        },
        "9d8a7137c5f845c498eb1313df8b471f": {
          "model_module": "@jupyter-widgets/base",
          "model_name": "LayoutModel",
          "state": {
            "_view_name": "LayoutView",
            "grid_template_rows": null,
            "right": null,
            "justify_content": null,
            "_view_module": "@jupyter-widgets/base",
            "overflow": null,
            "_model_module_version": "1.2.0",
            "_view_count": null,
            "flex_flow": null,
            "width": null,
            "min_width": null,
            "border": null,
            "align_items": null,
            "bottom": null,
            "_model_module": "@jupyter-widgets/base",
            "top": null,
            "grid_column": null,
            "overflow_y": null,
            "overflow_x": null,
            "grid_auto_flow": null,
            "grid_area": null,
            "grid_template_columns": null,
            "flex": null,
            "_model_name": "LayoutModel",
            "justify_items": null,
            "grid_row": null,
            "max_height": null,
            "align_content": null,
            "visibility": null,
            "align_self": null,
            "height": null,
            "min_height": null,
            "padding": null,
            "grid_auto_rows": null,
            "grid_gap": null,
            "max_width": null,
            "order": null,
            "_view_module_version": "1.2.0",
            "grid_template_areas": null,
            "object_position": null,
            "object_fit": null,
            "grid_auto_columns": null,
            "margin": null,
            "display": null,
            "left": null
          }
        },
        "a6023e69a7ca4ed9b54855ad96daf45c": {
          "model_module": "@jupyter-widgets/controls",
          "model_name": "DescriptionStyleModel",
          "state": {
            "_view_name": "StyleView",
            "_model_name": "DescriptionStyleModel",
            "description_width": "",
            "_view_module": "@jupyter-widgets/base",
            "_model_module_version": "1.5.0",
            "_view_count": null,
            "_view_module_version": "1.2.0",
            "_model_module": "@jupyter-widgets/controls"
          }
        },
        "b168859975e54e89bd6759bb148c2a09": {
          "model_module": "@jupyter-widgets/base",
          "model_name": "LayoutModel",
          "state": {
            "_view_name": "LayoutView",
            "grid_template_rows": null,
            "right": null,
            "justify_content": null,
            "_view_module": "@jupyter-widgets/base",
            "overflow": null,
            "_model_module_version": "1.2.0",
            "_view_count": null,
            "flex_flow": null,
            "width": null,
            "min_width": null,
            "border": null,
            "align_items": null,
            "bottom": null,
            "_model_module": "@jupyter-widgets/base",
            "top": null,
            "grid_column": null,
            "overflow_y": null,
            "overflow_x": null,
            "grid_auto_flow": null,
            "grid_area": null,
            "grid_template_columns": null,
            "flex": null,
            "_model_name": "LayoutModel",
            "justify_items": null,
            "grid_row": null,
            "max_height": null,
            "align_content": null,
            "visibility": null,
            "align_self": null,
            "height": null,
            "min_height": null,
            "padding": null,
            "grid_auto_rows": null,
            "grid_gap": null,
            "max_width": null,
            "order": null,
            "_view_module_version": "1.2.0",
            "grid_template_areas": null,
            "object_position": null,
            "object_fit": null,
            "grid_auto_columns": null,
            "margin": null,
            "display": null,
            "left": null
          }
        },
        "f29734779fe44da98a45e32b50666bf2": {
          "model_module": "@jupyter-widgets/controls",
          "model_name": "HBoxModel",
          "state": {
            "_view_name": "HBoxView",
            "_dom_classes": [],
            "_model_name": "HBoxModel",
            "_view_module": "@jupyter-widgets/controls",
            "_model_module_version": "1.5.0",
            "_view_count": null,
            "_view_module_version": "1.5.0",
            "box_style": "",
            "layout": "IPY_MODEL_5b0e63d3146b46f490251a5fbcc4aca1",
            "_model_module": "@jupyter-widgets/controls",
            "children": [
              "IPY_MODEL_ea41ee93fc0b4d4bb773da0fb1ab4c1c",
              "IPY_MODEL_8d76bf9836e94b548c1558ef4e8713c3"
            ]
          }
        },
        "5b0e63d3146b46f490251a5fbcc4aca1": {
          "model_module": "@jupyter-widgets/base",
          "model_name": "LayoutModel",
          "state": {
            "_view_name": "LayoutView",
            "grid_template_rows": null,
            "right": null,
            "justify_content": null,
            "_view_module": "@jupyter-widgets/base",
            "overflow": null,
            "_model_module_version": "1.2.0",
            "_view_count": null,
            "flex_flow": null,
            "width": null,
            "min_width": null,
            "border": null,
            "align_items": null,
            "bottom": null,
            "_model_module": "@jupyter-widgets/base",
            "top": null,
            "grid_column": null,
            "overflow_y": null,
            "overflow_x": null,
            "grid_auto_flow": null,
            "grid_area": null,
            "grid_template_columns": null,
            "flex": null,
            "_model_name": "LayoutModel",
            "justify_items": null,
            "grid_row": null,
            "max_height": null,
            "align_content": null,
            "visibility": null,
            "align_self": null,
            "height": null,
            "min_height": null,
            "padding": null,
            "grid_auto_rows": null,
            "grid_gap": null,
            "max_width": null,
            "order": null,
            "_view_module_version": "1.2.0",
            "grid_template_areas": null,
            "object_position": null,
            "object_fit": null,
            "grid_auto_columns": null,
            "margin": null,
            "display": null,
            "left": null
          }
        },
        "ea41ee93fc0b4d4bb773da0fb1ab4c1c": {
          "model_module": "@jupyter-widgets/controls",
          "model_name": "FloatProgressModel",
          "state": {
            "_view_name": "ProgressView",
            "style": "IPY_MODEL_4ff72de3055640ff95687f65afb47923",
            "_dom_classes": [],
            "description": "100%",
            "_model_name": "FloatProgressModel",
            "bar_style": "success",
            "max": 4986,
            "_view_module": "@jupyter-widgets/controls",
            "_model_module_version": "1.5.0",
            "value": 4986,
            "_view_count": null,
            "_view_module_version": "1.5.0",
            "orientation": "horizontal",
            "min": 0,
            "description_tooltip": null,
            "_model_module": "@jupyter-widgets/controls",
            "layout": "IPY_MODEL_b9a1c50c9b2c49a2874638a383bd8d4f"
          }
        },
        "8d76bf9836e94b548c1558ef4e8713c3": {
          "model_module": "@jupyter-widgets/controls",
          "model_name": "HTMLModel",
          "state": {
            "_view_name": "HTMLView",
            "style": "IPY_MODEL_feca384125834c86bf72873e56cbc9cf",
            "_dom_classes": [],
            "description": "",
            "_model_name": "HTMLModel",
            "placeholder": "​",
            "_view_module": "@jupyter-widgets/controls",
            "_model_module_version": "1.5.0",
            "value": " 4986/4986 [20:45&lt;00:00,  4.00it/s]",
            "_view_count": null,
            "_view_module_version": "1.5.0",
            "description_tooltip": null,
            "_model_module": "@jupyter-widgets/controls",
            "layout": "IPY_MODEL_c0bb3dca303246b0a029bb70c95fe940"
          }
        },
        "4ff72de3055640ff95687f65afb47923": {
          "model_module": "@jupyter-widgets/controls",
          "model_name": "ProgressStyleModel",
          "state": {
            "_view_name": "StyleView",
            "_model_name": "ProgressStyleModel",
            "description_width": "initial",
            "_view_module": "@jupyter-widgets/base",
            "_model_module_version": "1.5.0",
            "_view_count": null,
            "_view_module_version": "1.2.0",
            "bar_color": null,
            "_model_module": "@jupyter-widgets/controls"
          }
        },
        "b9a1c50c9b2c49a2874638a383bd8d4f": {
          "model_module": "@jupyter-widgets/base",
          "model_name": "LayoutModel",
          "state": {
            "_view_name": "LayoutView",
            "grid_template_rows": null,
            "right": null,
            "justify_content": null,
            "_view_module": "@jupyter-widgets/base",
            "overflow": null,
            "_model_module_version": "1.2.0",
            "_view_count": null,
            "flex_flow": null,
            "width": null,
            "min_width": null,
            "border": null,
            "align_items": null,
            "bottom": null,
            "_model_module": "@jupyter-widgets/base",
            "top": null,
            "grid_column": null,
            "overflow_y": null,
            "overflow_x": null,
            "grid_auto_flow": null,
            "grid_area": null,
            "grid_template_columns": null,
            "flex": null,
            "_model_name": "LayoutModel",
            "justify_items": null,
            "grid_row": null,
            "max_height": null,
            "align_content": null,
            "visibility": null,
            "align_self": null,
            "height": null,
            "min_height": null,
            "padding": null,
            "grid_auto_rows": null,
            "grid_gap": null,
            "max_width": null,
            "order": null,
            "_view_module_version": "1.2.0",
            "grid_template_areas": null,
            "object_position": null,
            "object_fit": null,
            "grid_auto_columns": null,
            "margin": null,
            "display": null,
            "left": null
          }
        },
        "feca384125834c86bf72873e56cbc9cf": {
          "model_module": "@jupyter-widgets/controls",
          "model_name": "DescriptionStyleModel",
          "state": {
            "_view_name": "StyleView",
            "_model_name": "DescriptionStyleModel",
            "description_width": "",
            "_view_module": "@jupyter-widgets/base",
            "_model_module_version": "1.5.0",
            "_view_count": null,
            "_view_module_version": "1.2.0",
            "_model_module": "@jupyter-widgets/controls"
          }
        },
        "c0bb3dca303246b0a029bb70c95fe940": {
          "model_module": "@jupyter-widgets/base",
          "model_name": "LayoutModel",
          "state": {
            "_view_name": "LayoutView",
            "grid_template_rows": null,
            "right": null,
            "justify_content": null,
            "_view_module": "@jupyter-widgets/base",
            "overflow": null,
            "_model_module_version": "1.2.0",
            "_view_count": null,
            "flex_flow": null,
            "width": null,
            "min_width": null,
            "border": null,
            "align_items": null,
            "bottom": null,
            "_model_module": "@jupyter-widgets/base",
            "top": null,
            "grid_column": null,
            "overflow_y": null,
            "overflow_x": null,
            "grid_auto_flow": null,
            "grid_area": null,
            "grid_template_columns": null,
            "flex": null,
            "_model_name": "LayoutModel",
            "justify_items": null,
            "grid_row": null,
            "max_height": null,
            "align_content": null,
            "visibility": null,
            "align_self": null,
            "height": null,
            "min_height": null,
            "padding": null,
            "grid_auto_rows": null,
            "grid_gap": null,
            "max_width": null,
            "order": null,
            "_view_module_version": "1.2.0",
            "grid_template_areas": null,
            "object_position": null,
            "object_fit": null,
            "grid_auto_columns": null,
            "margin": null,
            "display": null,
            "left": null
          }
        },
        "fad9f4f27920456499167374eaa27657": {
          "model_module": "@jupyter-widgets/controls",
          "model_name": "HBoxModel",
          "state": {
            "_view_name": "HBoxView",
            "_dom_classes": [],
            "_model_name": "HBoxModel",
            "_view_module": "@jupyter-widgets/controls",
            "_model_module_version": "1.5.0",
            "_view_count": null,
            "_view_module_version": "1.5.0",
            "box_style": "",
            "layout": "IPY_MODEL_b02344106bdc4f178b321031c7a5c356",
            "_model_module": "@jupyter-widgets/controls",
            "children": [
              "IPY_MODEL_424118fadb02444a9e7c277faef789fb",
              "IPY_MODEL_0261338bc9344657981748564fd436d7"
            ]
          }
        },
        "b02344106bdc4f178b321031c7a5c356": {
          "model_module": "@jupyter-widgets/base",
          "model_name": "LayoutModel",
          "state": {
            "_view_name": "LayoutView",
            "grid_template_rows": null,
            "right": null,
            "justify_content": null,
            "_view_module": "@jupyter-widgets/base",
            "overflow": null,
            "_model_module_version": "1.2.0",
            "_view_count": null,
            "flex_flow": null,
            "width": null,
            "min_width": null,
            "border": null,
            "align_items": null,
            "bottom": null,
            "_model_module": "@jupyter-widgets/base",
            "top": null,
            "grid_column": null,
            "overflow_y": null,
            "overflow_x": null,
            "grid_auto_flow": null,
            "grid_area": null,
            "grid_template_columns": null,
            "flex": null,
            "_model_name": "LayoutModel",
            "justify_items": null,
            "grid_row": null,
            "max_height": null,
            "align_content": null,
            "visibility": null,
            "align_self": null,
            "height": null,
            "min_height": null,
            "padding": null,
            "grid_auto_rows": null,
            "grid_gap": null,
            "max_width": null,
            "order": null,
            "_view_module_version": "1.2.0",
            "grid_template_areas": null,
            "object_position": null,
            "object_fit": null,
            "grid_auto_columns": null,
            "margin": null,
            "display": null,
            "left": null
          }
        },
        "424118fadb02444a9e7c277faef789fb": {
          "model_module": "@jupyter-widgets/controls",
          "model_name": "FloatProgressModel",
          "state": {
            "_view_name": "ProgressView",
            "style": "IPY_MODEL_5d405f7272d44228977c4e45ed0723c5",
            "_dom_classes": [],
            "description": "100%",
            "_model_name": "FloatProgressModel",
            "bar_style": "success",
            "max": 4986,
            "_view_module": "@jupyter-widgets/controls",
            "_model_module_version": "1.5.0",
            "value": 4986,
            "_view_count": null,
            "_view_module_version": "1.5.0",
            "orientation": "horizontal",
            "min": 0,
            "description_tooltip": null,
            "_model_module": "@jupyter-widgets/controls",
            "layout": "IPY_MODEL_05231d94e2bd4401b8cd89db9bc457f2"
          }
        },
        "0261338bc9344657981748564fd436d7": {
          "model_module": "@jupyter-widgets/controls",
          "model_name": "HTMLModel",
          "state": {
            "_view_name": "HTMLView",
            "style": "IPY_MODEL_5f3d25613857488e93ce11d912a46b0c",
            "_dom_classes": [],
            "description": "",
            "_model_name": "HTMLModel",
            "placeholder": "​",
            "_view_module": "@jupyter-widgets/controls",
            "_model_module_version": "1.5.0",
            "value": " 4986/4986 [20:45&lt;00:00,  4.00it/s]",
            "_view_count": null,
            "_view_module_version": "1.5.0",
            "description_tooltip": null,
            "_model_module": "@jupyter-widgets/controls",
            "layout": "IPY_MODEL_4507b33ace2246b5941c88f4a8a2b8b2"
          }
        },
        "5d405f7272d44228977c4e45ed0723c5": {
          "model_module": "@jupyter-widgets/controls",
          "model_name": "ProgressStyleModel",
          "state": {
            "_view_name": "StyleView",
            "_model_name": "ProgressStyleModel",
            "description_width": "initial",
            "_view_module": "@jupyter-widgets/base",
            "_model_module_version": "1.5.0",
            "_view_count": null,
            "_view_module_version": "1.2.0",
            "bar_color": null,
            "_model_module": "@jupyter-widgets/controls"
          }
        },
        "05231d94e2bd4401b8cd89db9bc457f2": {
          "model_module": "@jupyter-widgets/base",
          "model_name": "LayoutModel",
          "state": {
            "_view_name": "LayoutView",
            "grid_template_rows": null,
            "right": null,
            "justify_content": null,
            "_view_module": "@jupyter-widgets/base",
            "overflow": null,
            "_model_module_version": "1.2.0",
            "_view_count": null,
            "flex_flow": null,
            "width": null,
            "min_width": null,
            "border": null,
            "align_items": null,
            "bottom": null,
            "_model_module": "@jupyter-widgets/base",
            "top": null,
            "grid_column": null,
            "overflow_y": null,
            "overflow_x": null,
            "grid_auto_flow": null,
            "grid_area": null,
            "grid_template_columns": null,
            "flex": null,
            "_model_name": "LayoutModel",
            "justify_items": null,
            "grid_row": null,
            "max_height": null,
            "align_content": null,
            "visibility": null,
            "align_self": null,
            "height": null,
            "min_height": null,
            "padding": null,
            "grid_auto_rows": null,
            "grid_gap": null,
            "max_width": null,
            "order": null,
            "_view_module_version": "1.2.0",
            "grid_template_areas": null,
            "object_position": null,
            "object_fit": null,
            "grid_auto_columns": null,
            "margin": null,
            "display": null,
            "left": null
          }
        },
        "5f3d25613857488e93ce11d912a46b0c": {
          "model_module": "@jupyter-widgets/controls",
          "model_name": "DescriptionStyleModel",
          "state": {
            "_view_name": "StyleView",
            "_model_name": "DescriptionStyleModel",
            "description_width": "",
            "_view_module": "@jupyter-widgets/base",
            "_model_module_version": "1.5.0",
            "_view_count": null,
            "_view_module_version": "1.2.0",
            "_model_module": "@jupyter-widgets/controls"
          }
        },
        "4507b33ace2246b5941c88f4a8a2b8b2": {
          "model_module": "@jupyter-widgets/base",
          "model_name": "LayoutModel",
          "state": {
            "_view_name": "LayoutView",
            "grid_template_rows": null,
            "right": null,
            "justify_content": null,
            "_view_module": "@jupyter-widgets/base",
            "overflow": null,
            "_model_module_version": "1.2.0",
            "_view_count": null,
            "flex_flow": null,
            "width": null,
            "min_width": null,
            "border": null,
            "align_items": null,
            "bottom": null,
            "_model_module": "@jupyter-widgets/base",
            "top": null,
            "grid_column": null,
            "overflow_y": null,
            "overflow_x": null,
            "grid_auto_flow": null,
            "grid_area": null,
            "grid_template_columns": null,
            "flex": null,
            "_model_name": "LayoutModel",
            "justify_items": null,
            "grid_row": null,
            "max_height": null,
            "align_content": null,
            "visibility": null,
            "align_self": null,
            "height": null,
            "min_height": null,
            "padding": null,
            "grid_auto_rows": null,
            "grid_gap": null,
            "max_width": null,
            "order": null,
            "_view_module_version": "1.2.0",
            "grid_template_areas": null,
            "object_position": null,
            "object_fit": null,
            "grid_auto_columns": null,
            "margin": null,
            "display": null,
            "left": null
          }
        },
        "18d3d6b9bb684ac286165bc5cc934b9a": {
          "model_module": "@jupyter-widgets/controls",
          "model_name": "HBoxModel",
          "state": {
            "_view_name": "HBoxView",
            "_dom_classes": [],
            "_model_name": "HBoxModel",
            "_view_module": "@jupyter-widgets/controls",
            "_model_module_version": "1.5.0",
            "_view_count": null,
            "_view_module_version": "1.5.0",
            "box_style": "",
            "layout": "IPY_MODEL_dd8a9bf4f88e44b98dba7681f26d93f0",
            "_model_module": "@jupyter-widgets/controls",
            "children": [
              "IPY_MODEL_b42ad92ee9f446b3a5930d31535670a0",
              "IPY_MODEL_0646e1108d1e4c90ae977c460e5d7a91"
            ]
          }
        },
        "dd8a9bf4f88e44b98dba7681f26d93f0": {
          "model_module": "@jupyter-widgets/base",
          "model_name": "LayoutModel",
          "state": {
            "_view_name": "LayoutView",
            "grid_template_rows": null,
            "right": null,
            "justify_content": null,
            "_view_module": "@jupyter-widgets/base",
            "overflow": null,
            "_model_module_version": "1.2.0",
            "_view_count": null,
            "flex_flow": null,
            "width": null,
            "min_width": null,
            "border": null,
            "align_items": null,
            "bottom": null,
            "_model_module": "@jupyter-widgets/base",
            "top": null,
            "grid_column": null,
            "overflow_y": null,
            "overflow_x": null,
            "grid_auto_flow": null,
            "grid_area": null,
            "grid_template_columns": null,
            "flex": null,
            "_model_name": "LayoutModel",
            "justify_items": null,
            "grid_row": null,
            "max_height": null,
            "align_content": null,
            "visibility": null,
            "align_self": null,
            "height": null,
            "min_height": null,
            "padding": null,
            "grid_auto_rows": null,
            "grid_gap": null,
            "max_width": null,
            "order": null,
            "_view_module_version": "1.2.0",
            "grid_template_areas": null,
            "object_position": null,
            "object_fit": null,
            "grid_auto_columns": null,
            "margin": null,
            "display": null,
            "left": null
          }
        },
        "b42ad92ee9f446b3a5930d31535670a0": {
          "model_module": "@jupyter-widgets/controls",
          "model_name": "FloatProgressModel",
          "state": {
            "_view_name": "ProgressView",
            "style": "IPY_MODEL_f3c1ff2b0af549e79c9ea44c61f6672f",
            "_dom_classes": [],
            "description": "100%",
            "_model_name": "FloatProgressModel",
            "bar_style": "success",
            "max": 4986,
            "_view_module": "@jupyter-widgets/controls",
            "_model_module_version": "1.5.0",
            "value": 4986,
            "_view_count": null,
            "_view_module_version": "1.5.0",
            "orientation": "horizontal",
            "min": 0,
            "description_tooltip": null,
            "_model_module": "@jupyter-widgets/controls",
            "layout": "IPY_MODEL_e3921854af344d39b7134bbc7437185c"
          }
        },
        "0646e1108d1e4c90ae977c460e5d7a91": {
          "model_module": "@jupyter-widgets/controls",
          "model_name": "HTMLModel",
          "state": {
            "_view_name": "HTMLView",
            "style": "IPY_MODEL_218a046a37f846d28815190f34ea2089",
            "_dom_classes": [],
            "description": "",
            "_model_name": "HTMLModel",
            "placeholder": "​",
            "_view_module": "@jupyter-widgets/controls",
            "_model_module_version": "1.5.0",
            "value": " 4986/4986 [20:43&lt;00:00,  4.01it/s]",
            "_view_count": null,
            "_view_module_version": "1.5.0",
            "description_tooltip": null,
            "_model_module": "@jupyter-widgets/controls",
            "layout": "IPY_MODEL_b28dfac6fbf0441c86052908f9358459"
          }
        },
        "f3c1ff2b0af549e79c9ea44c61f6672f": {
          "model_module": "@jupyter-widgets/controls",
          "model_name": "ProgressStyleModel",
          "state": {
            "_view_name": "StyleView",
            "_model_name": "ProgressStyleModel",
            "description_width": "initial",
            "_view_module": "@jupyter-widgets/base",
            "_model_module_version": "1.5.0",
            "_view_count": null,
            "_view_module_version": "1.2.0",
            "bar_color": null,
            "_model_module": "@jupyter-widgets/controls"
          }
        },
        "e3921854af344d39b7134bbc7437185c": {
          "model_module": "@jupyter-widgets/base",
          "model_name": "LayoutModel",
          "state": {
            "_view_name": "LayoutView",
            "grid_template_rows": null,
            "right": null,
            "justify_content": null,
            "_view_module": "@jupyter-widgets/base",
            "overflow": null,
            "_model_module_version": "1.2.0",
            "_view_count": null,
            "flex_flow": null,
            "width": null,
            "min_width": null,
            "border": null,
            "align_items": null,
            "bottom": null,
            "_model_module": "@jupyter-widgets/base",
            "top": null,
            "grid_column": null,
            "overflow_y": null,
            "overflow_x": null,
            "grid_auto_flow": null,
            "grid_area": null,
            "grid_template_columns": null,
            "flex": null,
            "_model_name": "LayoutModel",
            "justify_items": null,
            "grid_row": null,
            "max_height": null,
            "align_content": null,
            "visibility": null,
            "align_self": null,
            "height": null,
            "min_height": null,
            "padding": null,
            "grid_auto_rows": null,
            "grid_gap": null,
            "max_width": null,
            "order": null,
            "_view_module_version": "1.2.0",
            "grid_template_areas": null,
            "object_position": null,
            "object_fit": null,
            "grid_auto_columns": null,
            "margin": null,
            "display": null,
            "left": null
          }
        },
        "218a046a37f846d28815190f34ea2089": {
          "model_module": "@jupyter-widgets/controls",
          "model_name": "DescriptionStyleModel",
          "state": {
            "_view_name": "StyleView",
            "_model_name": "DescriptionStyleModel",
            "description_width": "",
            "_view_module": "@jupyter-widgets/base",
            "_model_module_version": "1.5.0",
            "_view_count": null,
            "_view_module_version": "1.2.0",
            "_model_module": "@jupyter-widgets/controls"
          }
        },
        "b28dfac6fbf0441c86052908f9358459": {
          "model_module": "@jupyter-widgets/base",
          "model_name": "LayoutModel",
          "state": {
            "_view_name": "LayoutView",
            "grid_template_rows": null,
            "right": null,
            "justify_content": null,
            "_view_module": "@jupyter-widgets/base",
            "overflow": null,
            "_model_module_version": "1.2.0",
            "_view_count": null,
            "flex_flow": null,
            "width": null,
            "min_width": null,
            "border": null,
            "align_items": null,
            "bottom": null,
            "_model_module": "@jupyter-widgets/base",
            "top": null,
            "grid_column": null,
            "overflow_y": null,
            "overflow_x": null,
            "grid_auto_flow": null,
            "grid_area": null,
            "grid_template_columns": null,
            "flex": null,
            "_model_name": "LayoutModel",
            "justify_items": null,
            "grid_row": null,
            "max_height": null,
            "align_content": null,
            "visibility": null,
            "align_self": null,
            "height": null,
            "min_height": null,
            "padding": null,
            "grid_auto_rows": null,
            "grid_gap": null,
            "max_width": null,
            "order": null,
            "_view_module_version": "1.2.0",
            "grid_template_areas": null,
            "object_position": null,
            "object_fit": null,
            "grid_auto_columns": null,
            "margin": null,
            "display": null,
            "left": null
          }
        },
        "234c524fc5f14becbf0f36babc13a959": {
          "model_module": "@jupyter-widgets/controls",
          "model_name": "HBoxModel",
          "state": {
            "_view_name": "HBoxView",
            "_dom_classes": [],
            "_model_name": "HBoxModel",
            "_view_module": "@jupyter-widgets/controls",
            "_model_module_version": "1.5.0",
            "_view_count": null,
            "_view_module_version": "1.5.0",
            "box_style": "",
            "layout": "IPY_MODEL_cfb8a8f8129c42aabedcd00f33b5cf0a",
            "_model_module": "@jupyter-widgets/controls",
            "children": [
              "IPY_MODEL_12c6d38889e14a7496937a68a52b0a4a",
              "IPY_MODEL_b9a482da3d8145be8450a75bd2f29bb9"
            ]
          }
        },
        "cfb8a8f8129c42aabedcd00f33b5cf0a": {
          "model_module": "@jupyter-widgets/base",
          "model_name": "LayoutModel",
          "state": {
            "_view_name": "LayoutView",
            "grid_template_rows": null,
            "right": null,
            "justify_content": null,
            "_view_module": "@jupyter-widgets/base",
            "overflow": null,
            "_model_module_version": "1.2.0",
            "_view_count": null,
            "flex_flow": null,
            "width": null,
            "min_width": null,
            "border": null,
            "align_items": null,
            "bottom": null,
            "_model_module": "@jupyter-widgets/base",
            "top": null,
            "grid_column": null,
            "overflow_y": null,
            "overflow_x": null,
            "grid_auto_flow": null,
            "grid_area": null,
            "grid_template_columns": null,
            "flex": null,
            "_model_name": "LayoutModel",
            "justify_items": null,
            "grid_row": null,
            "max_height": null,
            "align_content": null,
            "visibility": null,
            "align_self": null,
            "height": null,
            "min_height": null,
            "padding": null,
            "grid_auto_rows": null,
            "grid_gap": null,
            "max_width": null,
            "order": null,
            "_view_module_version": "1.2.0",
            "grid_template_areas": null,
            "object_position": null,
            "object_fit": null,
            "grid_auto_columns": null,
            "margin": null,
            "display": null,
            "left": null
          }
        },
        "12c6d38889e14a7496937a68a52b0a4a": {
          "model_module": "@jupyter-widgets/controls",
          "model_name": "FloatProgressModel",
          "state": {
            "_view_name": "ProgressView",
            "style": "IPY_MODEL_1701d1855bf041b68ffce6702520b561",
            "_dom_classes": [],
            "description": "100%",
            "_model_name": "FloatProgressModel",
            "bar_style": "success",
            "max": 4986,
            "_view_module": "@jupyter-widgets/controls",
            "_model_module_version": "1.5.0",
            "value": 4986,
            "_view_count": null,
            "_view_module_version": "1.5.0",
            "orientation": "horizontal",
            "min": 0,
            "description_tooltip": null,
            "_model_module": "@jupyter-widgets/controls",
            "layout": "IPY_MODEL_4d40543083bb4ab6a7fb06395891a8fd"
          }
        },
        "b9a482da3d8145be8450a75bd2f29bb9": {
          "model_module": "@jupyter-widgets/controls",
          "model_name": "HTMLModel",
          "state": {
            "_view_name": "HTMLView",
            "style": "IPY_MODEL_29c80ffa709f4a6fbd2980a35670012c",
            "_dom_classes": [],
            "description": "",
            "_model_name": "HTMLModel",
            "placeholder": "​",
            "_view_module": "@jupyter-widgets/controls",
            "_model_module_version": "1.5.0",
            "value": " 4986/4986 [20:42&lt;00:00,  4.01it/s]",
            "_view_count": null,
            "_view_module_version": "1.5.0",
            "description_tooltip": null,
            "_model_module": "@jupyter-widgets/controls",
            "layout": "IPY_MODEL_affe8b6e8bda4761855259dcf5591367"
          }
        },
        "1701d1855bf041b68ffce6702520b561": {
          "model_module": "@jupyter-widgets/controls",
          "model_name": "ProgressStyleModel",
          "state": {
            "_view_name": "StyleView",
            "_model_name": "ProgressStyleModel",
            "description_width": "initial",
            "_view_module": "@jupyter-widgets/base",
            "_model_module_version": "1.5.0",
            "_view_count": null,
            "_view_module_version": "1.2.0",
            "bar_color": null,
            "_model_module": "@jupyter-widgets/controls"
          }
        },
        "4d40543083bb4ab6a7fb06395891a8fd": {
          "model_module": "@jupyter-widgets/base",
          "model_name": "LayoutModel",
          "state": {
            "_view_name": "LayoutView",
            "grid_template_rows": null,
            "right": null,
            "justify_content": null,
            "_view_module": "@jupyter-widgets/base",
            "overflow": null,
            "_model_module_version": "1.2.0",
            "_view_count": null,
            "flex_flow": null,
            "width": null,
            "min_width": null,
            "border": null,
            "align_items": null,
            "bottom": null,
            "_model_module": "@jupyter-widgets/base",
            "top": null,
            "grid_column": null,
            "overflow_y": null,
            "overflow_x": null,
            "grid_auto_flow": null,
            "grid_area": null,
            "grid_template_columns": null,
            "flex": null,
            "_model_name": "LayoutModel",
            "justify_items": null,
            "grid_row": null,
            "max_height": null,
            "align_content": null,
            "visibility": null,
            "align_self": null,
            "height": null,
            "min_height": null,
            "padding": null,
            "grid_auto_rows": null,
            "grid_gap": null,
            "max_width": null,
            "order": null,
            "_view_module_version": "1.2.0",
            "grid_template_areas": null,
            "object_position": null,
            "object_fit": null,
            "grid_auto_columns": null,
            "margin": null,
            "display": null,
            "left": null
          }
        },
        "29c80ffa709f4a6fbd2980a35670012c": {
          "model_module": "@jupyter-widgets/controls",
          "model_name": "DescriptionStyleModel",
          "state": {
            "_view_name": "StyleView",
            "_model_name": "DescriptionStyleModel",
            "description_width": "",
            "_view_module": "@jupyter-widgets/base",
            "_model_module_version": "1.5.0",
            "_view_count": null,
            "_view_module_version": "1.2.0",
            "_model_module": "@jupyter-widgets/controls"
          }
        },
        "affe8b6e8bda4761855259dcf5591367": {
          "model_module": "@jupyter-widgets/base",
          "model_name": "LayoutModel",
          "state": {
            "_view_name": "LayoutView",
            "grid_template_rows": null,
            "right": null,
            "justify_content": null,
            "_view_module": "@jupyter-widgets/base",
            "overflow": null,
            "_model_module_version": "1.2.0",
            "_view_count": null,
            "flex_flow": null,
            "width": null,
            "min_width": null,
            "border": null,
            "align_items": null,
            "bottom": null,
            "_model_module": "@jupyter-widgets/base",
            "top": null,
            "grid_column": null,
            "overflow_y": null,
            "overflow_x": null,
            "grid_auto_flow": null,
            "grid_area": null,
            "grid_template_columns": null,
            "flex": null,
            "_model_name": "LayoutModel",
            "justify_items": null,
            "grid_row": null,
            "max_height": null,
            "align_content": null,
            "visibility": null,
            "align_self": null,
            "height": null,
            "min_height": null,
            "padding": null,
            "grid_auto_rows": null,
            "grid_gap": null,
            "max_width": null,
            "order": null,
            "_view_module_version": "1.2.0",
            "grid_template_areas": null,
            "object_position": null,
            "object_fit": null,
            "grid_auto_columns": null,
            "margin": null,
            "display": null,
            "left": null
          }
        },
        "b895ac59616d418f8c0f99aae628b95f": {
          "model_module": "@jupyter-widgets/controls",
          "model_name": "HBoxModel",
          "state": {
            "_view_name": "HBoxView",
            "_dom_classes": [],
            "_model_name": "HBoxModel",
            "_view_module": "@jupyter-widgets/controls",
            "_model_module_version": "1.5.0",
            "_view_count": null,
            "_view_module_version": "1.5.0",
            "box_style": "",
            "layout": "IPY_MODEL_e441c95bb3ad413e8e78e63a9112c0b9",
            "_model_module": "@jupyter-widgets/controls",
            "children": [
              "IPY_MODEL_e7017bde92074f8aaab2221fdb31f511",
              "IPY_MODEL_29997dcb61d8465b80721faa0d34fa0b"
            ]
          }
        },
        "e441c95bb3ad413e8e78e63a9112c0b9": {
          "model_module": "@jupyter-widgets/base",
          "model_name": "LayoutModel",
          "state": {
            "_view_name": "LayoutView",
            "grid_template_rows": null,
            "right": null,
            "justify_content": null,
            "_view_module": "@jupyter-widgets/base",
            "overflow": null,
            "_model_module_version": "1.2.0",
            "_view_count": null,
            "flex_flow": null,
            "width": null,
            "min_width": null,
            "border": null,
            "align_items": null,
            "bottom": null,
            "_model_module": "@jupyter-widgets/base",
            "top": null,
            "grid_column": null,
            "overflow_y": null,
            "overflow_x": null,
            "grid_auto_flow": null,
            "grid_area": null,
            "grid_template_columns": null,
            "flex": null,
            "_model_name": "LayoutModel",
            "justify_items": null,
            "grid_row": null,
            "max_height": null,
            "align_content": null,
            "visibility": null,
            "align_self": null,
            "height": null,
            "min_height": null,
            "padding": null,
            "grid_auto_rows": null,
            "grid_gap": null,
            "max_width": null,
            "order": null,
            "_view_module_version": "1.2.0",
            "grid_template_areas": null,
            "object_position": null,
            "object_fit": null,
            "grid_auto_columns": null,
            "margin": null,
            "display": null,
            "left": null
          }
        },
        "e7017bde92074f8aaab2221fdb31f511": {
          "model_module": "@jupyter-widgets/controls",
          "model_name": "FloatProgressModel",
          "state": {
            "_view_name": "ProgressView",
            "style": "IPY_MODEL_2dd8708a33684f2180bb2958a75743a1",
            "_dom_classes": [],
            "description": "100%",
            "_model_name": "FloatProgressModel",
            "bar_style": "success",
            "max": 4986,
            "_view_module": "@jupyter-widgets/controls",
            "_model_module_version": "1.5.0",
            "value": 4986,
            "_view_count": null,
            "_view_module_version": "1.5.0",
            "orientation": "horizontal",
            "min": 0,
            "description_tooltip": null,
            "_model_module": "@jupyter-widgets/controls",
            "layout": "IPY_MODEL_33afc176555843f196e2bfd200bc30c8"
          }
        },
        "29997dcb61d8465b80721faa0d34fa0b": {
          "model_module": "@jupyter-widgets/controls",
          "model_name": "HTMLModel",
          "state": {
            "_view_name": "HTMLView",
            "style": "IPY_MODEL_ff648cfae3d94617b53466517f7464cb",
            "_dom_classes": [],
            "description": "",
            "_model_name": "HTMLModel",
            "placeholder": "​",
            "_view_module": "@jupyter-widgets/controls",
            "_model_module_version": "1.5.0",
            "value": " 4986/4986 [20:40&lt;00:00,  4.02it/s]",
            "_view_count": null,
            "_view_module_version": "1.5.0",
            "description_tooltip": null,
            "_model_module": "@jupyter-widgets/controls",
            "layout": "IPY_MODEL_de570c217364443b82790f88782f4a72"
          }
        },
        "2dd8708a33684f2180bb2958a75743a1": {
          "model_module": "@jupyter-widgets/controls",
          "model_name": "ProgressStyleModel",
          "state": {
            "_view_name": "StyleView",
            "_model_name": "ProgressStyleModel",
            "description_width": "initial",
            "_view_module": "@jupyter-widgets/base",
            "_model_module_version": "1.5.0",
            "_view_count": null,
            "_view_module_version": "1.2.0",
            "bar_color": null,
            "_model_module": "@jupyter-widgets/controls"
          }
        },
        "33afc176555843f196e2bfd200bc30c8": {
          "model_module": "@jupyter-widgets/base",
          "model_name": "LayoutModel",
          "state": {
            "_view_name": "LayoutView",
            "grid_template_rows": null,
            "right": null,
            "justify_content": null,
            "_view_module": "@jupyter-widgets/base",
            "overflow": null,
            "_model_module_version": "1.2.0",
            "_view_count": null,
            "flex_flow": null,
            "width": null,
            "min_width": null,
            "border": null,
            "align_items": null,
            "bottom": null,
            "_model_module": "@jupyter-widgets/base",
            "top": null,
            "grid_column": null,
            "overflow_y": null,
            "overflow_x": null,
            "grid_auto_flow": null,
            "grid_area": null,
            "grid_template_columns": null,
            "flex": null,
            "_model_name": "LayoutModel",
            "justify_items": null,
            "grid_row": null,
            "max_height": null,
            "align_content": null,
            "visibility": null,
            "align_self": null,
            "height": null,
            "min_height": null,
            "padding": null,
            "grid_auto_rows": null,
            "grid_gap": null,
            "max_width": null,
            "order": null,
            "_view_module_version": "1.2.0",
            "grid_template_areas": null,
            "object_position": null,
            "object_fit": null,
            "grid_auto_columns": null,
            "margin": null,
            "display": null,
            "left": null
          }
        },
        "ff648cfae3d94617b53466517f7464cb": {
          "model_module": "@jupyter-widgets/controls",
          "model_name": "DescriptionStyleModel",
          "state": {
            "_view_name": "StyleView",
            "_model_name": "DescriptionStyleModel",
            "description_width": "",
            "_view_module": "@jupyter-widgets/base",
            "_model_module_version": "1.5.0",
            "_view_count": null,
            "_view_module_version": "1.2.0",
            "_model_module": "@jupyter-widgets/controls"
          }
        },
        "de570c217364443b82790f88782f4a72": {
          "model_module": "@jupyter-widgets/base",
          "model_name": "LayoutModel",
          "state": {
            "_view_name": "LayoutView",
            "grid_template_rows": null,
            "right": null,
            "justify_content": null,
            "_view_module": "@jupyter-widgets/base",
            "overflow": null,
            "_model_module_version": "1.2.0",
            "_view_count": null,
            "flex_flow": null,
            "width": null,
            "min_width": null,
            "border": null,
            "align_items": null,
            "bottom": null,
            "_model_module": "@jupyter-widgets/base",
            "top": null,
            "grid_column": null,
            "overflow_y": null,
            "overflow_x": null,
            "grid_auto_flow": null,
            "grid_area": null,
            "grid_template_columns": null,
            "flex": null,
            "_model_name": "LayoutModel",
            "justify_items": null,
            "grid_row": null,
            "max_height": null,
            "align_content": null,
            "visibility": null,
            "align_self": null,
            "height": null,
            "min_height": null,
            "padding": null,
            "grid_auto_rows": null,
            "grid_gap": null,
            "max_width": null,
            "order": null,
            "_view_module_version": "1.2.0",
            "grid_template_areas": null,
            "object_position": null,
            "object_fit": null,
            "grid_auto_columns": null,
            "margin": null,
            "display": null,
            "left": null
          }
        },
        "3a4e0439f9804cd5837745e509d6cffb": {
          "model_module": "@jupyter-widgets/controls",
          "model_name": "HBoxModel",
          "state": {
            "_view_name": "HBoxView",
            "_dom_classes": [],
            "_model_name": "HBoxModel",
            "_view_module": "@jupyter-widgets/controls",
            "_model_module_version": "1.5.0",
            "_view_count": null,
            "_view_module_version": "1.5.0",
            "box_style": "",
            "layout": "IPY_MODEL_7abf2a67f8b048b499e62615290ebd41",
            "_model_module": "@jupyter-widgets/controls",
            "children": [
              "IPY_MODEL_c14c0da21be34d98b69e623e87e41286",
              "IPY_MODEL_641432016e724e3aa22899ae2204dc57"
            ]
          }
        },
        "7abf2a67f8b048b499e62615290ebd41": {
          "model_module": "@jupyter-widgets/base",
          "model_name": "LayoutModel",
          "state": {
            "_view_name": "LayoutView",
            "grid_template_rows": null,
            "right": null,
            "justify_content": null,
            "_view_module": "@jupyter-widgets/base",
            "overflow": null,
            "_model_module_version": "1.2.0",
            "_view_count": null,
            "flex_flow": null,
            "width": null,
            "min_width": null,
            "border": null,
            "align_items": null,
            "bottom": null,
            "_model_module": "@jupyter-widgets/base",
            "top": null,
            "grid_column": null,
            "overflow_y": null,
            "overflow_x": null,
            "grid_auto_flow": null,
            "grid_area": null,
            "grid_template_columns": null,
            "flex": null,
            "_model_name": "LayoutModel",
            "justify_items": null,
            "grid_row": null,
            "max_height": null,
            "align_content": null,
            "visibility": null,
            "align_self": null,
            "height": null,
            "min_height": null,
            "padding": null,
            "grid_auto_rows": null,
            "grid_gap": null,
            "max_width": null,
            "order": null,
            "_view_module_version": "1.2.0",
            "grid_template_areas": null,
            "object_position": null,
            "object_fit": null,
            "grid_auto_columns": null,
            "margin": null,
            "display": null,
            "left": null
          }
        },
        "c14c0da21be34d98b69e623e87e41286": {
          "model_module": "@jupyter-widgets/controls",
          "model_name": "FloatProgressModel",
          "state": {
            "_view_name": "ProgressView",
            "style": "IPY_MODEL_e763b07668754eaea6766f0c78683a39",
            "_dom_classes": [],
            "description": "100%",
            "_model_name": "FloatProgressModel",
            "bar_style": "success",
            "max": 4986,
            "_view_module": "@jupyter-widgets/controls",
            "_model_module_version": "1.5.0",
            "value": 4986,
            "_view_count": null,
            "_view_module_version": "1.5.0",
            "orientation": "horizontal",
            "min": 0,
            "description_tooltip": null,
            "_model_module": "@jupyter-widgets/controls",
            "layout": "IPY_MODEL_a0b86f4fcb4d4ab78642d0c6b9f897d4"
          }
        },
        "641432016e724e3aa22899ae2204dc57": {
          "model_module": "@jupyter-widgets/controls",
          "model_name": "HTMLModel",
          "state": {
            "_view_name": "HTMLView",
            "style": "IPY_MODEL_53699a824dc949f5af8c08ff88698c53",
            "_dom_classes": [],
            "description": "",
            "_model_name": "HTMLModel",
            "placeholder": "​",
            "_view_module": "@jupyter-widgets/controls",
            "_model_module_version": "1.5.0",
            "value": " 4986/4986 [00:30&lt;00:00, 164.30it/s]",
            "_view_count": null,
            "_view_module_version": "1.5.0",
            "description_tooltip": null,
            "_model_module": "@jupyter-widgets/controls",
            "layout": "IPY_MODEL_cb082d644d5041e5a87badb3ac7944c1"
          }
        },
        "e763b07668754eaea6766f0c78683a39": {
          "model_module": "@jupyter-widgets/controls",
          "model_name": "ProgressStyleModel",
          "state": {
            "_view_name": "StyleView",
            "_model_name": "ProgressStyleModel",
            "description_width": "initial",
            "_view_module": "@jupyter-widgets/base",
            "_model_module_version": "1.5.0",
            "_view_count": null,
            "_view_module_version": "1.2.0",
            "bar_color": null,
            "_model_module": "@jupyter-widgets/controls"
          }
        },
        "a0b86f4fcb4d4ab78642d0c6b9f897d4": {
          "model_module": "@jupyter-widgets/base",
          "model_name": "LayoutModel",
          "state": {
            "_view_name": "LayoutView",
            "grid_template_rows": null,
            "right": null,
            "justify_content": null,
            "_view_module": "@jupyter-widgets/base",
            "overflow": null,
            "_model_module_version": "1.2.0",
            "_view_count": null,
            "flex_flow": null,
            "width": null,
            "min_width": null,
            "border": null,
            "align_items": null,
            "bottom": null,
            "_model_module": "@jupyter-widgets/base",
            "top": null,
            "grid_column": null,
            "overflow_y": null,
            "overflow_x": null,
            "grid_auto_flow": null,
            "grid_area": null,
            "grid_template_columns": null,
            "flex": null,
            "_model_name": "LayoutModel",
            "justify_items": null,
            "grid_row": null,
            "max_height": null,
            "align_content": null,
            "visibility": null,
            "align_self": null,
            "height": null,
            "min_height": null,
            "padding": null,
            "grid_auto_rows": null,
            "grid_gap": null,
            "max_width": null,
            "order": null,
            "_view_module_version": "1.2.0",
            "grid_template_areas": null,
            "object_position": null,
            "object_fit": null,
            "grid_auto_columns": null,
            "margin": null,
            "display": null,
            "left": null
          }
        },
        "53699a824dc949f5af8c08ff88698c53": {
          "model_module": "@jupyter-widgets/controls",
          "model_name": "DescriptionStyleModel",
          "state": {
            "_view_name": "StyleView",
            "_model_name": "DescriptionStyleModel",
            "description_width": "",
            "_view_module": "@jupyter-widgets/base",
            "_model_module_version": "1.5.0",
            "_view_count": null,
            "_view_module_version": "1.2.0",
            "_model_module": "@jupyter-widgets/controls"
          }
        },
        "cb082d644d5041e5a87badb3ac7944c1": {
          "model_module": "@jupyter-widgets/base",
          "model_name": "LayoutModel",
          "state": {
            "_view_name": "LayoutView",
            "grid_template_rows": null,
            "right": null,
            "justify_content": null,
            "_view_module": "@jupyter-widgets/base",
            "overflow": null,
            "_model_module_version": "1.2.0",
            "_view_count": null,
            "flex_flow": null,
            "width": null,
            "min_width": null,
            "border": null,
            "align_items": null,
            "bottom": null,
            "_model_module": "@jupyter-widgets/base",
            "top": null,
            "grid_column": null,
            "overflow_y": null,
            "overflow_x": null,
            "grid_auto_flow": null,
            "grid_area": null,
            "grid_template_columns": null,
            "flex": null,
            "_model_name": "LayoutModel",
            "justify_items": null,
            "grid_row": null,
            "max_height": null,
            "align_content": null,
            "visibility": null,
            "align_self": null,
            "height": null,
            "min_height": null,
            "padding": null,
            "grid_auto_rows": null,
            "grid_gap": null,
            "max_width": null,
            "order": null,
            "_view_module_version": "1.2.0",
            "grid_template_areas": null,
            "object_position": null,
            "object_fit": null,
            "grid_auto_columns": null,
            "margin": null,
            "display": null,
            "left": null
          }
        }
      }
    }
  },
  "cells": [
    {
      "cell_type": "markdown",
      "metadata": {
        "id": "view-in-github",
        "colab_type": "text"
      },
      "source": [
        "<a href=\"https://colab.research.google.com/github/pSN0W/AI_Practice/blob/main/T_SNE_on_Amazon_fine_food_review.ipynb\" target=\"_parent\"><img src=\"https://colab.research.google.com/assets/colab-badge.svg\" alt=\"Open In Colab\"/></a>"
      ]
    },
    {
      "cell_type": "markdown",
      "metadata": {
        "id": "qtTXrZOpZLXm"
      },
      "source": [
        "#Loading Data from kaggle\n"
      ]
    },
    {
      "cell_type": "code",
      "metadata": {
        "colab": {
          "base_uri": "https://localhost:8080/"
        },
        "id": "q0UywXUtQh8C",
        "outputId": "9e1e8ec4-e98e-4c71-d150-9f8bbfe3a584"
      },
      "source": [
        "!pip install kaggle"
      ],
      "execution_count": 1,
      "outputs": [
        {
          "output_type": "stream",
          "text": [
            "Requirement already satisfied: kaggle in /usr/local/lib/python3.7/dist-packages (1.5.12)\n",
            "Requirement already satisfied: certifi in /usr/local/lib/python3.7/dist-packages (from kaggle) (2020.12.5)\n",
            "Requirement already satisfied: python-dateutil in /usr/local/lib/python3.7/dist-packages (from kaggle) (2.8.1)\n",
            "Requirement already satisfied: six>=1.10 in /usr/local/lib/python3.7/dist-packages (from kaggle) (1.15.0)\n",
            "Requirement already satisfied: python-slugify in /usr/local/lib/python3.7/dist-packages (from kaggle) (5.0.2)\n",
            "Requirement already satisfied: requests in /usr/local/lib/python3.7/dist-packages (from kaggle) (2.23.0)\n",
            "Requirement already satisfied: urllib3 in /usr/local/lib/python3.7/dist-packages (from kaggle) (1.24.3)\n",
            "Requirement already satisfied: tqdm in /usr/local/lib/python3.7/dist-packages (from kaggle) (4.41.1)\n",
            "Requirement already satisfied: text-unidecode>=1.3 in /usr/local/lib/python3.7/dist-packages (from python-slugify->kaggle) (1.3)\n",
            "Requirement already satisfied: idna<3,>=2.5 in /usr/local/lib/python3.7/dist-packages (from requests->kaggle) (2.10)\n",
            "Requirement already satisfied: chardet<4,>=3.0.2 in /usr/local/lib/python3.7/dist-packages (from requests->kaggle) (3.0.4)\n"
          ],
          "name": "stdout"
        }
      ]
    },
    {
      "cell_type": "code",
      "metadata": {
        "colab": {
          "resources": {
            "http://localhost:8080/nbextensions/google.colab/files.js": {
              "data": "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",
              "ok": true,
              "headers": [
                [
                  "content-type",
                  "application/javascript"
                ]
              ],
              "status": 200,
              "status_text": ""
            }
          },
          "base_uri": "https://localhost:8080/",
          "height": 89
        },
        "id": "fWSCQsInXZ53",
        "outputId": "3a75ed5b-fad6-4df5-bede-b0ed53b9fcc7"
      },
      "source": [
        "from google.colab import files\n",
        "files.upload()"
      ],
      "execution_count": 2,
      "outputs": [
        {
          "output_type": "display_data",
          "data": {
            "text/html": [
              "\n",
              "     <input type=\"file\" id=\"files-a7fd5b0e-f764-4f7c-90a9-b487b5b184f0\" name=\"files[]\" multiple disabled\n",
              "        style=\"border:none\" />\n",
              "     <output id=\"result-a7fd5b0e-f764-4f7c-90a9-b487b5b184f0\">\n",
              "      Upload widget is only available when the cell has been executed in the\n",
              "      current browser session. Please rerun this cell to enable.\n",
              "      </output>\n",
              "      <script src=\"/nbextensions/google.colab/files.js\"></script> "
            ],
            "text/plain": [
              "<IPython.core.display.HTML object>"
            ]
          },
          "metadata": {
            "tags": []
          }
        },
        {
          "output_type": "stream",
          "text": [
            "Saving kaggle.json to kaggle.json\n"
          ],
          "name": "stdout"
        },
        {
          "output_type": "execute_result",
          "data": {
            "text/plain": [
              "{'kaggle.json': b'{\"username\":\"pratyakshsingh\",\"key\":\"e1a64879a9d9f50ccfaafd16798ab02d\"}'}"
            ]
          },
          "metadata": {
            "tags": []
          },
          "execution_count": 2
        }
      ]
    },
    {
      "cell_type": "code",
      "metadata": {
        "id": "QOz5zfn7Xq0h"
      },
      "source": [
        "!mkdir -p ~/.kaggle\n",
        "!cp kaggle.json ~/.kaggle/\n",
        "\n",
        "#change the permission\n",
        "!chmod 600 ~/.kaggle/kaggle.json"
      ],
      "execution_count": 3,
      "outputs": []
    },
    {
      "cell_type": "code",
      "metadata": {
        "colab": {
          "base_uri": "https://localhost:8080/"
        },
        "id": "Um8jMcc7YcWM",
        "outputId": "7bd1ee2b-c5e4-4d3b-cace-9df7b488d4f2"
      },
      "source": [
        "!kaggle datasets download -d snap/amazon-fine-food-reviews"
      ],
      "execution_count": 4,
      "outputs": [
        {
          "output_type": "stream",
          "text": [
            "Downloading amazon-fine-food-reviews.zip to /content\n",
            " 96% 233M/242M [00:02<00:00, 83.6MB/s]\n",
            "100% 242M/242M [00:02<00:00, 92.6MB/s]\n"
          ],
          "name": "stdout"
        }
      ]
    },
    {
      "cell_type": "code",
      "metadata": {
        "id": "VkLWB1xhYuLT"
      },
      "source": [
        "from zipfile import ZipFile\n",
        "file_name = \"amazon-fine-food-reviews.zip\"\n",
        "with ZipFile(file_name,'r') as zip:\n",
        "  zip.extractall()"
      ],
      "execution_count": 5,
      "outputs": []
    },
    {
      "cell_type": "markdown",
      "metadata": {
        "id": "XiItSTdfWuRx"
      },
      "source": [
        "#Data Processing"
      ]
    },
    {
      "cell_type": "markdown",
      "metadata": {
        "id": "bo8VjvhOW72o"
      },
      "source": [
        "##Data Selection"
      ]
    },
    {
      "cell_type": "markdown",
      "metadata": {
        "id": "jpTu6o7eXDti"
      },
      "source": [
        "###Importing Module"
      ]
    },
    {
      "cell_type": "code",
      "metadata": {
        "id": "vvZIZcI-XHCu"
      },
      "source": [
        "%matplotlib inline\n",
        "import warnings\n",
        "warnings.filterwarnings(\"ignore\")\n",
        "\n",
        "\n",
        "\n",
        "import sqlite3\n",
        "import pandas as pd\n",
        "import numpy as np\n",
        "import nltk\n",
        "import string\n",
        "import matplotlib.pyplot as plt\n",
        "import seaborn as sns\n",
        "from sklearn.feature_extraction.text import TfidfTransformer\n",
        "from sklearn.feature_extraction.text import TfidfVectorizer\n",
        "\n",
        "from sklearn.feature_extraction.text import CountVectorizer\n",
        "from sklearn.metrics import confusion_matrix\n",
        "from sklearn import metrics\n",
        "from sklearn.metrics import roc_curve, auc\n",
        "from nltk.stem.porter import PorterStemmer\n",
        "from sklearn import decomposition\n",
        "\n",
        "import re\n",
        "import string\n",
        "from nltk.corpus import stopwords\n",
        "from nltk.stem import PorterStemmer\n",
        "from nltk.stem.wordnet import WordNetLemmatizer\n",
        "\n",
        "from gensim.models import Word2Vec\n",
        "from gensim.models import KeyedVectors\n",
        "import pickle\n",
        "\n",
        "import tqdm.notebook as tq\n",
        "import os\n",
        "\n",
        "from bs4 import BeautifulSoup\n",
        "from sklearn.manifold import TSNE"
      ],
      "execution_count": 6,
      "outputs": []
    },
    {
      "cell_type": "markdown",
      "metadata": {
        "id": "-5KvSGYOXYxk"
      },
      "source": [
        "###Working on Data"
      ]
    },
    {
      "cell_type": "code",
      "metadata": {
        "id": "S6jBQNNtW1T6"
      },
      "source": [
        "df=pd.read_csv(\"Reviews.csv\")"
      ],
      "execution_count": 7,
      "outputs": []
    },
    {
      "cell_type": "code",
      "metadata": {
        "id": "KLYnR7_3XyJN",
        "colab": {
          "base_uri": "https://localhost:8080/"
        },
        "outputId": "65c70d62-c49d-4f25-c1d8-69235eca7d30"
      },
      "source": [
        "df.columns"
      ],
      "execution_count": 8,
      "outputs": [
        {
          "output_type": "execute_result",
          "data": {
            "text/plain": [
              "Index(['Id', 'ProductId', 'UserId', 'ProfileName', 'HelpfulnessNumerator',\n",
              "       'HelpfulnessDenominator', 'Score', 'Time', 'Summary', 'Text'],\n",
              "      dtype='object')"
            ]
          },
          "metadata": {
            "tags": []
          },
          "execution_count": 8
        }
      ]
    },
    {
      "cell_type": "code",
      "metadata": {
        "id": "HLfbQBDvX1La"
      },
      "source": [
        "#Choosing 5k of only those points for which score is not equal to 3\n",
        "\n",
        "intermediate_data=df[df['Score']!=3].head(5000)"
      ],
      "execution_count": 9,
      "outputs": []
    },
    {
      "cell_type": "code",
      "metadata": {
        "colab": {
          "base_uri": "https://localhost:8080/"
        },
        "id": "sC8EXxe-YY95",
        "outputId": "9b7b24be-9c06-41f9-d0bb-96d18d3b719a"
      },
      "source": [
        "intermediate_data.size"
      ],
      "execution_count": 10,
      "outputs": [
        {
          "output_type": "execute_result",
          "data": {
            "text/plain": [
              "50000"
            ]
          },
          "metadata": {
            "tags": []
          },
          "execution_count": 10
        }
      ]
    },
    {
      "cell_type": "code",
      "metadata": {
        "colab": {
          "base_uri": "https://localhost:8080/"
        },
        "id": "_M-CNUsdYewW",
        "outputId": "f281bee2-2769-485b-b4fc-d4b088a07929"
      },
      "source": [
        "intermediate_data['Score'].value_counts()"
      ],
      "execution_count": 11,
      "outputs": [
        {
          "output_type": "execute_result",
          "data": {
            "text/plain": [
              "5    3420\n",
              "4     767\n",
              "1     504\n",
              "2     309\n",
              "Name: Score, dtype: int64"
            ]
          },
          "metadata": {
            "tags": []
          },
          "execution_count": 11
        }
      ]
    },
    {
      "cell_type": "code",
      "metadata": {
        "id": "vzSlTIA7ZZ-5"
      },
      "source": [
        "def partition(x):\n",
        "  if x>3:\n",
        "    return \"positive\"\n",
        "  return \"negative\""
      ],
      "execution_count": 12,
      "outputs": []
    },
    {
      "cell_type": "code",
      "metadata": {
        "id": "AGguESc6ZoR9"
      },
      "source": [
        "positiveNegative=intermediate_data['Score'].map(partition)"
      ],
      "execution_count": 13,
      "outputs": []
    },
    {
      "cell_type": "code",
      "metadata": {
        "id": "FJC-8u4gaACQ"
      },
      "source": [
        "intermediate_data['Score']=positiveNegative"
      ],
      "execution_count": 14,
      "outputs": []
    },
    {
      "cell_type": "code",
      "metadata": {
        "colab": {
          "base_uri": "https://localhost:8080/"
        },
        "id": "h3PLeqY-aMlL",
        "outputId": "ab8e0d52-ef22-4ebe-faf3-c23cdbc45dc5"
      },
      "source": [
        "intermediate_data['Score'].value_counts()"
      ],
      "execution_count": 15,
      "outputs": [
        {
          "output_type": "execute_result",
          "data": {
            "text/plain": [
              "positive    4187\n",
              "negative     813\n",
              "Name: Score, dtype: int64"
            ]
          },
          "metadata": {
            "tags": []
          },
          "execution_count": 15
        }
      ]
    },
    {
      "cell_type": "markdown",
      "metadata": {
        "id": "9NnL3TiBcAeC"
      },
      "source": [
        "###Data Cleansing"
      ]
    },
    {
      "cell_type": "markdown",
      "metadata": {
        "id": "m2oM_1lMd24x"
      },
      "source": [
        "####Removing Duplicates"
      ]
    },
    {
      "cell_type": "code",
      "metadata": {
        "id": "jK_PjfF2cIbd"
      },
      "source": [
        "sorted_data=intermediate_data.sort_values(by='ProductId')"
      ],
      "execution_count": 16,
      "outputs": []
    },
    {
      "cell_type": "code",
      "metadata": {
        "id": "fpzkQCdXdSDu"
      },
      "source": [
        "final=sorted_data.drop_duplicates(subset={\"UserId\",\"ProfileName\",\"Time\",\"Text\"},keep='first',ignore_index=True)"
      ],
      "execution_count": 17,
      "outputs": []
    },
    {
      "cell_type": "code",
      "metadata": {
        "colab": {
          "base_uri": "https://localhost:8080/"
        },
        "id": "pXQpBelpdrqY",
        "outputId": "cc26de18-b4a3-4c5f-c0db-c58043f37a1d"
      },
      "source": [
        "final.size"
      ],
      "execution_count": 18,
      "outputs": [
        {
          "output_type": "execute_result",
          "data": {
            "text/plain": [
              "49860"
            ]
          },
          "metadata": {
            "tags": []
          },
          "execution_count": 18
        }
      ]
    },
    {
      "cell_type": "code",
      "metadata": {
        "colab": {
          "base_uri": "https://localhost:8080/"
        },
        "id": "AjYyRdm_dwYj",
        "outputId": "395042f9-3ed7-4bfe-8807-b801175962c4"
      },
      "source": [
        "final['Score'].value_counts()"
      ],
      "execution_count": 19,
      "outputs": [
        {
          "output_type": "execute_result",
          "data": {
            "text/plain": [
              "positive    4178\n",
              "negative     808\n",
              "Name: Score, dtype: int64"
            ]
          },
          "metadata": {
            "tags": []
          },
          "execution_count": 19
        }
      ]
    },
    {
      "cell_type": "markdown",
      "metadata": {
        "id": "TYMzG7U4d88E"
      },
      "source": [
        "####Removing incorrect Data"
      ]
    },
    {
      "cell_type": "code",
      "metadata": {
        "id": "tOwhZ5LVeIik"
      },
      "source": [
        "final=final[final['HelpfulnessNumerator']<=final['HelpfulnessDenominator']]"
      ],
      "execution_count": 20,
      "outputs": []
    },
    {
      "cell_type": "code",
      "metadata": {
        "colab": {
          "base_uri": "https://localhost:8080/"
        },
        "id": "yreJAXvOeTyg",
        "outputId": "19fb3fb3-7373-4f4f-a78c-9dacadd7588e"
      },
      "source": [
        "final.size"
      ],
      "execution_count": 21,
      "outputs": [
        {
          "output_type": "execute_result",
          "data": {
            "text/plain": [
              "49860"
            ]
          },
          "metadata": {
            "tags": []
          },
          "execution_count": 21
        }
      ]
    },
    {
      "cell_type": "markdown",
      "metadata": {
        "id": "OuT8TeC-ek5w"
      },
      "source": [
        "##Reading Data"
      ]
    },
    {
      "cell_type": "code",
      "metadata": {
        "colab": {
          "base_uri": "https://localhost:8080/"
        },
        "id": "klF-CBJseo77",
        "outputId": "4834ef7c-b3e9-4b75-c7a1-9dacef10b506"
      },
      "source": [
        "final.iloc[20]"
      ],
      "execution_count": 22,
      "outputs": [
        {
          "output_type": "execute_result",
          "data": {
            "text/plain": [
              "Id                                                                     1435\n",
              "ProductId                                                        B0000VLH8S\n",
              "UserId                                                       A1HPPPBBMZD78K\n",
              "ProfileName                Judy J. Blaskowski \"Coauthor of The Step Dyna...\n",
              "HelpfulnessNumerator                                                      6\n",
              "HelpfulnessDenominator                                                    6\n",
              "Score                                                              positive\n",
              "Time                                                             1175644800\n",
              "Summary                                   Create Exquisite Cake Decorations\n",
              "Text                      I used Super Gold Luster Dust to create the mo...\n",
              "Name: 20, dtype: object"
            ]
          },
          "metadata": {
            "tags": []
          },
          "execution_count": 22
        }
      ]
    },
    {
      "cell_type": "code",
      "metadata": {
        "colab": {
          "base_uri": "https://localhost:8080/",
          "height": 86
        },
        "id": "mhliDrUxfDZj",
        "outputId": "2cba4a6d-d18f-4620-f397-8c79e538a7d9"
      },
      "source": [
        "final['Text'].values[20]"
      ],
      "execution_count": 23,
      "outputs": [
        {
          "output_type": "execute_result",
          "data": {
            "application/vnd.google.colaboratory.intrinsic+json": {
              "type": "string"
            },
            "text/plain": [
              "'I used Super Gold Luster Dust to create the most exquisite chocolate aspen leaves for the groom\\'s cake at my son\\'s wedding. By using an artist\\'s paintbrush to lightly coat the molded leaves with Luster Dust, the result was startlingly beautiful. In contrast to food coloring, the Luster Dust brushes on easily and imparts a realistically metallic color and sheen. The containers are small but the product goes a long way, making it extremely economical to use. <a href=\"http://www.amazon.com/gp/product/1933981350\">The Step Dynamic: A Powerful Strategy for Successfully Growing Your Business</a>'"
            ]
          },
          "metadata": {
            "tags": []
          },
          "execution_count": 23
        }
      ]
    },
    {
      "cell_type": "markdown",
      "metadata": {
        "id": "uqBQ1lfEfXeW"
      },
      "source": [
        "Here we see that text contains a lot of html tags special characters and href also and also short forms"
      ]
    },
    {
      "cell_type": "code",
      "metadata": {
        "colab": {
          "base_uri": "https://localhost:8080/",
          "height": 35
        },
        "id": "lj2k0kCegMK3",
        "outputId": "1439a1dc-3c22-4b43-9272-7764f98ed188"
      },
      "source": [
        "final['Summary'].values[20]"
      ],
      "execution_count": 24,
      "outputs": [
        {
          "output_type": "execute_result",
          "data": {
            "application/vnd.google.colaboratory.intrinsic+json": {
              "type": "string"
            },
            "text/plain": [
              "'Create Exquisite Cake Decorations'"
            ]
          },
          "metadata": {
            "tags": []
          },
          "execution_count": 24
        }
      ]
    },
    {
      "cell_type": "markdown",
      "metadata": {
        "id": "vupZl9cPgSj5"
      },
      "source": [
        "Summary contains a small synopsis of text and obviously text holds fore information then the summary so we will try to convert text to vector"
      ]
    },
    {
      "cell_type": "markdown",
      "metadata": {
        "id": "HjegW9lDgi0A"
      },
      "source": [
        "#Text Preprcessing"
      ]
    },
    {
      "cell_type": "code",
      "metadata": {
        "id": "9N6edA_2h6mE"
      },
      "source": [
        "# https://gist.github.com/sebleier/554280\n",
        "# we are removing the words from the stop words list: 'no', 'nor', 'not'\n",
        "# <br /><br /> ==> after the above steps, we are getting \"br br\"\n",
        "# we are including them into stop words list\n",
        "# instead of <br /> if we have <br/> these tags would have revmoved in the 1st step\n",
        "\n",
        "stopwords= set(['br', 'the', 'i', 'me', 'my', 'myself', 'we', 'our', 'ours', 'ourselves', 'you', \"you're\", \"you've\",\\\n",
        "            \"you'll\", \"you'd\", 'your', 'yours', 'yourself', 'yourselves', 'he', 'him', 'his', 'himself', \\\n",
        "            'she', \"she's\", 'her', 'hers', 'herself', 'it', \"it's\", 'its', 'itself', 'they', 'them', 'their',\\\n",
        "            'theirs', 'themselves', 'what', 'which', 'who', 'whom', 'this', 'that', \"that'll\", 'these', 'those', \\\n",
        "            'am', 'is', 'are', 'was', 'were', 'be', 'been', 'being', 'have', 'has', 'had', 'having', 'do', 'does', \\\n",
        "            'did', 'doing', 'a', 'an', 'the', 'and', 'but', 'if', 'or', 'because', 'as', 'until', 'while', 'of', \\\n",
        "            'at', 'by', 'for', 'with', 'about', 'against', 'between', 'into', 'through', 'during', 'before', 'after',\\\n",
        "            'above', 'below', 'to', 'from', 'up', 'down', 'in', 'out', 'on', 'off', 'over', 'under', 'again', 'further',\\\n",
        "            'then', 'once', 'here', 'there', 'when', 'where', 'why', 'how', 'all', 'any', 'both', 'each', 'few', 'more',\\\n",
        "            'most', 'other', 'some', 'such', 'only', 'own', 'same', 'so', 'than', 'too', 'very', \\\n",
        "            's', 't', 'can', 'will', 'just', 'don', \"don't\", 'should', \"should've\", 'now', 'd', 'll', 'm', 'o', 're', \\\n",
        "            've', 'y', 'ain', 'aren', \"aren't\", 'couldn', \"couldn't\", 'didn', \"didn't\", 'doesn', \"doesn't\", 'hadn',\\\n",
        "            \"hadn't\", 'hasn', \"hasn't\", 'haven', \"haven't\", 'isn', \"isn't\", 'ma', 'mightn', \"mightn't\", 'mustn',\\\n",
        "            \"mustn't\", 'needn', \"needn't\", 'shan', \"shan't\", 'shouldn', \"shouldn't\", 'wasn', \"wasn't\", 'weren', \"weren't\", \\\n",
        "            'won', \"won't\", 'wouldn', \"wouldn't\"])"
      ],
      "execution_count": 25,
      "outputs": []
    },
    {
      "cell_type": "code",
      "metadata": {
        "id": "2fFf4nweh_6K"
      },
      "source": [
        "def decontracted(phrase):\n",
        "    # specific\n",
        "    phrase = re.sub(r\"won't\", \"will not\", phrase)\n",
        "    phrase = re.sub(r\"can\\'t\", \"can not\", phrase)\n",
        "\n",
        "    # general\n",
        "    phrase = re.sub(r\"n\\'t\", \" not\", phrase)\n",
        "    phrase = re.sub(r\"\\'re\", \" are\", phrase)\n",
        "    phrase = re.sub(r\"\\'s\", \" is\", phrase)\n",
        "    phrase = re.sub(r\"\\'d\", \" would\", phrase)\n",
        "    phrase = re.sub(r\"\\'ll\", \" will\", phrase)\n",
        "    phrase = re.sub(r\"\\'t\", \" not\", phrase)\n",
        "    phrase = re.sub(r\"\\'ve\", \" have\", phrase)\n",
        "    phrase = re.sub(r\"\\'m\", \" am\", phrase)\n",
        "    return phrase"
      ],
      "execution_count": 26,
      "outputs": []
    },
    {
      "cell_type": "code",
      "metadata": {
        "colab": {
          "base_uri": "https://localhost:8080/",
          "height": 66,
          "referenced_widgets": [
            "240f11704f8f496f8630a5471cd7ea51",
            "935ea1f734324cf4b4ff75228f35fd4b",
            "076f650815d84496a2a0bffa2ee6dc8b",
            "02fa0b0542e541c8808e2c82cf5590d7",
            "ac34dff3a8ac4021b1e4d1a27e3eef1f",
            "9d8a7137c5f845c498eb1313df8b471f",
            "a6023e69a7ca4ed9b54855ad96daf45c",
            "b168859975e54e89bd6759bb148c2a09"
          ]
        },
        "id": "IRpPWIh3gmiT",
        "outputId": "e2af1dff-8987-4bdd-86bb-07086724a585"
      },
      "source": [
        "preprocessed_text=[]\n",
        "\n",
        "for sentance in tq.tqdm(final['Text'].values):\n",
        "  sentance = re.sub(\"http\\S+\",\"\",sentance)  #remove href\n",
        "  sentance = BeautifulSoup(sentance,\"lxml\").get_text()  #remove tags from the sentance\n",
        "  sentance = decontracted(sentance)   #expands the short forms in sentance\n",
        "  sentance = re.sub(\"\\S*\\d\\S*\",\"\",sentance).strip()   #removes words with number in it\n",
        "  sentance = re.sub(\"[^A-Za-z]+\",\" \",sentance)  #removes special character\n",
        "  sentance = ' '.join([word.lower() for word in sentance.split()  if word not in stopwords and len(word)>2])\n",
        "  preprocessed_text.append(sentance)"
      ],
      "execution_count": 27,
      "outputs": [
        {
          "output_type": "display_data",
          "data": {
            "application/vnd.jupyter.widget-view+json": {
              "model_id": "240f11704f8f496f8630a5471cd7ea51",
              "version_minor": 0,
              "version_major": 2
            },
            "text/plain": [
              "HBox(children=(FloatProgress(value=0.0, max=4986.0), HTML(value='')))"
            ]
          },
          "metadata": {
            "tags": []
          }
        },
        {
          "output_type": "stream",
          "text": [
            "\n"
          ],
          "name": "stdout"
        }
      ]
    },
    {
      "cell_type": "code",
      "metadata": {
        "colab": {
          "base_uri": "https://localhost:8080/",
          "height": 52
        },
        "id": "uxjwSAT7juON",
        "outputId": "e3cf4005-fbd1-42a9-e9c1-456de968fade"
      },
      "source": [
        "preprocessed_text[50]"
      ],
      "execution_count": 28,
      "outputs": [
        {
          "output_type": "execute_result",
          "data": {
            "application/vnd.google.colaboratory.intrinsic+json": {
              "type": "string"
            },
            "text/plain": [
              "'and not mean asian sauces this easily best sauce ever put everything gotten hand way see else latest thing pouring peanuts coating peanuts sauce then eat nuts spoon keep hands clean sounds gross delicious'"
            ]
          },
          "metadata": {
            "tags": []
          },
          "execution_count": 28
        }
      ]
    },
    {
      "cell_type": "code",
      "metadata": {
        "colab": {
          "base_uri": "https://localhost:8080/"
        },
        "id": "dCV5SHghkgrI",
        "outputId": "77327b6c-dc42-49ab-d55a-fa05fa3d0022"
      },
      "source": [
        "print(len(final))\n",
        "len(preprocessed_text)"
      ],
      "execution_count": 29,
      "outputs": [
        {
          "output_type": "stream",
          "text": [
            "4986\n"
          ],
          "name": "stdout"
        },
        {
          "output_type": "execute_result",
          "data": {
            "text/plain": [
              "4986"
            ]
          },
          "metadata": {
            "tags": []
          },
          "execution_count": 29
        }
      ]
    },
    {
      "cell_type": "markdown",
      "metadata": {
        "id": "ioxDojhEj0cN"
      },
      "source": [
        "#Featurisation"
      ]
    },
    {
      "cell_type": "markdown",
      "metadata": {
        "id": "ufPxI6Gnj415"
      },
      "source": [
        "##BoW"
      ]
    },
    {
      "cell_type": "code",
      "metadata": {
        "colab": {
          "base_uri": "https://localhost:8080/",
          "height": 117,
          "referenced_widgets": [
            "f29734779fe44da98a45e32b50666bf2",
            "5b0e63d3146b46f490251a5fbcc4aca1",
            "ea41ee93fc0b4d4bb773da0fb1ab4c1c",
            "8d76bf9836e94b548c1558ef4e8713c3",
            "4ff72de3055640ff95687f65afb47923",
            "b9a1c50c9b2c49a2874638a383bd8d4f",
            "feca384125834c86bf72873e56cbc9cf",
            "c0bb3dca303246b0a029bb70c95fe940"
          ]
        },
        "id": "g084IkztkbNe",
        "outputId": "aa7d90b7-59ae-46cd-e3f7-eeef3e9d7973"
      },
      "source": [
        "count_vect = CountVectorizer(min_df=10)\n",
        "Bow_amazon = count_vect.fit_transform(tq.tqdm(preprocessed_text))\n",
        "print(\"Few of the words are : \",count_vect.get_feature_names()[:10])\n",
        "print(\"Shape of the matrix is : \",Bow_amazon.get_shape())\n",
        "print(\"Type of matrix is : \",type(Bow_amazon))"
      ],
      "execution_count": 30,
      "outputs": [
        {
          "output_type": "display_data",
          "data": {
            "application/vnd.jupyter.widget-view+json": {
              "model_id": "f29734779fe44da98a45e32b50666bf2",
              "version_minor": 0,
              "version_major": 2
            },
            "text/plain": [
              "HBox(children=(FloatProgress(value=0.0, max=4986.0), HTML(value='')))"
            ]
          },
          "metadata": {
            "tags": []
          }
        },
        {
          "output_type": "stream",
          "text": [
            "\n",
            "Few of the words are :  ['ability', 'able', 'about', 'absolute', 'absolutely', 'according', 'acid', 'acidic', 'acidity', 'across']\n",
            "Shape of the matrix is :  (4986, 2268)\n",
            "Type of matrix is :  <class 'scipy.sparse.csr.csr_matrix'>\n"
          ],
          "name": "stdout"
        }
      ]
    },
    {
      "cell_type": "markdown",
      "metadata": {
        "id": "rtDH5lVemSW5"
      },
      "source": [
        "## Trigram BoW"
      ]
    },
    {
      "cell_type": "code",
      "metadata": {
        "colab": {
          "base_uri": "https://localhost:8080/",
          "height": 117,
          "referenced_widgets": [
            "fad9f4f27920456499167374eaa27657",
            "b02344106bdc4f178b321031c7a5c356",
            "424118fadb02444a9e7c277faef789fb",
            "0261338bc9344657981748564fd436d7",
            "5d405f7272d44228977c4e45ed0723c5",
            "05231d94e2bd4401b8cd89db9bc457f2",
            "5f3d25613857488e93ce11d912a46b0c",
            "4507b33ace2246b5941c88f4a8a2b8b2"
          ]
        },
        "id": "cx4Se5WimWmv",
        "outputId": "25ac2cb4-88f4-4ae7-f242-a68fe361c3db"
      },
      "source": [
        "count_vect = CountVectorizer(min_df=10,ngram_range=(1,3))\n",
        "Bow_tri_amazon = count_vect.fit_transform(tq.tqdm(preprocessed_text))\n",
        "print(\"Few of the words are : \",count_vect.get_feature_names()[:10])\n",
        "print(\"Shape of the matrix is : \",Bow_tri_amazon.get_shape())\n",
        "print(\"Type of matrix is : \",type(Bow_tri_amazon))"
      ],
      "execution_count": 31,
      "outputs": [
        {
          "output_type": "display_data",
          "data": {
            "application/vnd.jupyter.widget-view+json": {
              "model_id": "fad9f4f27920456499167374eaa27657",
              "version_minor": 0,
              "version_major": 2
            },
            "text/plain": [
              "HBox(children=(FloatProgress(value=0.0, max=4986.0), HTML(value='')))"
            ]
          },
          "metadata": {
            "tags": []
          }
        },
        {
          "output_type": "stream",
          "text": [
            "\n",
            "Few of the words are :  ['ability', 'able', 'able find', 'able get', 'about', 'absolute', 'absolutely', 'absolutely delicious', 'absolutely love', 'according']\n",
            "Shape of the matrix is :  (4986, 3308)\n",
            "Type of matrix is :  <class 'scipy.sparse.csr.csr_matrix'>\n"
          ],
          "name": "stdout"
        }
      ]
    },
    {
      "cell_type": "markdown",
      "metadata": {
        "id": "sGasI3lSmzI3"
      },
      "source": [
        "##Tfidf BoW"
      ]
    },
    {
      "cell_type": "code",
      "metadata": {
        "colab": {
          "base_uri": "https://localhost:8080/",
          "height": 117,
          "referenced_widgets": [
            "18d3d6b9bb684ac286165bc5cc934b9a",
            "dd8a9bf4f88e44b98dba7681f26d93f0",
            "b42ad92ee9f446b3a5930d31535670a0",
            "0646e1108d1e4c90ae977c460e5d7a91",
            "f3c1ff2b0af549e79c9ea44c61f6672f",
            "e3921854af344d39b7134bbc7437185c",
            "218a046a37f846d28815190f34ea2089",
            "b28dfac6fbf0441c86052908f9358459"
          ]
        },
        "id": "gwEbBqtDm5hU",
        "outputId": "3eaa30e2-d0c7-4746-cbbc-42dbcf418d9c"
      },
      "source": [
        "count_vect = TfidfVectorizer(ngram_range=(1,3),min_df=10)\n",
        "Bow_tfidf_amazon = count_vect.fit_transform(tq.tqdm(preprocessed_text))\n",
        "print(\"Few of the words are : \",count_vect.get_feature_names()[:10])\n",
        "print(\"Shape of the matrix is : \",Bow_tfidf_amazon.get_shape())\n",
        "print(\"Type of matrix is : \",type(Bow_tfidf_amazon))"
      ],
      "execution_count": 32,
      "outputs": [
        {
          "output_type": "display_data",
          "data": {
            "application/vnd.jupyter.widget-view+json": {
              "model_id": "18d3d6b9bb684ac286165bc5cc934b9a",
              "version_minor": 0,
              "version_major": 2
            },
            "text/plain": [
              "HBox(children=(FloatProgress(value=0.0, max=4986.0), HTML(value='')))"
            ]
          },
          "metadata": {
            "tags": []
          }
        },
        {
          "output_type": "stream",
          "text": [
            "\n",
            "Few of the words are :  ['ability', 'able', 'able find', 'able get', 'about', 'absolute', 'absolutely', 'absolutely delicious', 'absolutely love', 'according']\n",
            "Shape of the matrix is :  (4986, 3308)\n",
            "Type of matrix is :  <class 'scipy.sparse.csr.csr_matrix'>\n"
          ],
          "name": "stdout"
        }
      ]
    },
    {
      "cell_type": "markdown",
      "metadata": {
        "id": "LodO0dVansbl"
      },
      "source": [
        "##Word2Vector"
      ]
    },
    {
      "cell_type": "code",
      "metadata": {
        "colab": {
          "base_uri": "https://localhost:8080/",
          "height": 66,
          "referenced_widgets": [
            "234c524fc5f14becbf0f36babc13a959",
            "cfb8a8f8129c42aabedcd00f33b5cf0a",
            "12c6d38889e14a7496937a68a52b0a4a",
            "b9a482da3d8145be8450a75bd2f29bb9",
            "1701d1855bf041b68ffce6702520b561",
            "4d40543083bb4ab6a7fb06395891a8fd",
            "29c80ffa709f4a6fbd2980a35670012c",
            "affe8b6e8bda4761855259dcf5591367"
          ]
        },
        "id": "GuR__87qoR1y",
        "outputId": "daaace98-086e-4e76-ce28-5d8f3b992e55"
      },
      "source": [
        "list_of_sentances=[]\n",
        "for sentance in tq.tqdm(preprocessed_text):\n",
        "  list_of_sentances.append(sentance.split())"
      ],
      "execution_count": 33,
      "outputs": [
        {
          "output_type": "display_data",
          "data": {
            "application/vnd.jupyter.widget-view+json": {
              "model_id": "234c524fc5f14becbf0f36babc13a959",
              "version_minor": 0,
              "version_major": 2
            },
            "text/plain": [
              "HBox(children=(FloatProgress(value=0.0, max=4986.0), HTML(value='')))"
            ]
          },
          "metadata": {
            "tags": []
          }
        },
        {
          "output_type": "stream",
          "text": [
            "\n"
          ],
          "name": "stdout"
        }
      ]
    },
    {
      "cell_type": "code",
      "metadata": {
        "id": "fGsRAFuHpkDJ",
        "colab": {
          "base_uri": "https://localhost:8080/"
        },
        "outputId": "84c30869-c2c4-4a84-a479-fb086f40dc8a"
      },
      "source": [
        "list_of_sentances[20]"
      ],
      "execution_count": 34,
      "outputs": [
        {
          "output_type": "execute_result",
          "data": {
            "text/plain": [
              "['used',\n",
              " 'super',\n",
              " 'gold',\n",
              " 'luster',\n",
              " 'dust',\n",
              " 'create',\n",
              " 'exquisite',\n",
              " 'chocolate',\n",
              " 'aspen',\n",
              " 'leaves',\n",
              " 'groom',\n",
              " 'cake',\n",
              " 'son',\n",
              " 'wedding',\n",
              " 'using',\n",
              " 'artist',\n",
              " 'paintbrush',\n",
              " 'lightly',\n",
              " 'coat',\n",
              " 'molded',\n",
              " 'leaves',\n",
              " 'luster',\n",
              " 'dust',\n",
              " 'result',\n",
              " 'startlingly',\n",
              " 'beautiful',\n",
              " 'contrast',\n",
              " 'food',\n",
              " 'coloring',\n",
              " 'luster',\n",
              " 'dust',\n",
              " 'brushes',\n",
              " 'easily',\n",
              " 'imparts',\n",
              " 'realistically',\n",
              " 'metallic',\n",
              " 'color',\n",
              " 'sheen',\n",
              " 'the',\n",
              " 'containers',\n",
              " 'small',\n",
              " 'product',\n",
              " 'goes',\n",
              " 'long',\n",
              " 'way',\n",
              " 'making',\n",
              " 'extremely',\n",
              " 'economical',\n",
              " 'use']"
            ]
          },
          "metadata": {
            "tags": []
          },
          "execution_count": 34
        }
      ]
    },
    {
      "cell_type": "code",
      "metadata": {
        "id": "qaeSx5gInxwR"
      },
      "source": [
        "# Making our own word2vec model\n",
        "word_vec = Word2Vec(list_of_sentances,size=50,min_count=10,workers=4)"
      ],
      "execution_count": 35,
      "outputs": []
    },
    {
      "cell_type": "code",
      "metadata": {
        "id": "0uiuiieFp3vM",
        "colab": {
          "base_uri": "https://localhost:8080/"
        },
        "outputId": "2af871ad-91fb-4e61-df26-1b1574328430"
      },
      "source": [
        "word_vec.wv['good']"
      ],
      "execution_count": 36,
      "outputs": [
        {
          "output_type": "execute_result",
          "data": {
            "text/plain": [
              "array([ 0.44569117,  0.3853459 , -0.639353  ,  0.5417866 , -0.09217196,\n",
              "       -0.3880745 ,  0.06809915,  0.40676075, -0.347133  , -0.37431505,\n",
              "        0.29218575, -0.46746877, -0.20373361,  0.01450003,  0.06650525,\n",
              "       -0.02484497, -0.4707956 , -0.6303725 , -0.17428073, -0.6064058 ,\n",
              "       -0.45033282, -0.41153562, -0.0412818 ,  0.42754084, -0.20444566,\n",
              "       -0.06323879, -0.13154206, -0.22717653,  0.20467106, -0.62019193,\n",
              "        0.20208143,  0.16074467, -0.7769976 ,  0.58592683, -0.10358301,\n",
              "       -0.2684632 ,  0.06717109,  0.4225431 ,  0.02532391, -0.55604595,\n",
              "        0.5366282 ,  0.25836793, -0.17205206, -0.20946485, -0.36407933,\n",
              "       -0.21126851,  0.3162473 , -0.04915368,  0.20550404,  0.09975281],\n",
              "      dtype=float32)"
            ]
          },
          "metadata": {
            "tags": []
          },
          "execution_count": 36
        }
      ]
    },
    {
      "cell_type": "code",
      "metadata": {
        "colab": {
          "base_uri": "https://localhost:8080/"
        },
        "id": "cjD7UQaDqQM7",
        "outputId": "586be3d2-cae2-4fcc-da3d-f6296ceb1e87"
      },
      "source": [
        "print(word_vec.most_similar(\"good\"))\n",
        "print(\"=\"*200)\n",
        "print(word_vec.most_similar(\"bad\"))"
      ],
      "execution_count": 37,
      "outputs": [
        {
          "output_type": "stream",
          "text": [
            "[('rich', 0.992191731929779), ('smooth', 0.9921248555183411), ('spicy', 0.9920685887336731), ('bitter', 0.9918822646141052), ('love', 0.9918769598007202), ('nice', 0.9917093515396118), ('really', 0.9906221032142639), ('real', 0.9900332689285278), ('black', 0.9892983436584473), ('light', 0.9891021251678467)]\n",
            "========================================================================================================================================================================================================\n",
            "[('think', 0.9984742403030396), ('might', 0.9983953237533569), ('say', 0.9977115988731384), ('wrong', 0.9975899457931519), ('seem', 0.9975327253341675), ('burn', 0.9973863363265991), ('although', 0.9973267316818237), ('still', 0.9973009824752808), ('expecting', 0.9972981810569763), ('supposed', 0.9969906210899353)]\n"
          ],
          "name": "stdout"
        }
      ]
    },
    {
      "cell_type": "code",
      "metadata": {
        "colab": {
          "base_uri": "https://localhost:8080/"
        },
        "id": "nXZlY_zCrFC7",
        "outputId": "738805f4-286d-4fd9-cf3d-fd730cbed81b"
      },
      "source": [
        "word_vec_words = word_vec.wv.vocab\n",
        "len(word_vec_words)"
      ],
      "execution_count": 38,
      "outputs": [
        {
          "output_type": "execute_result",
          "data": {
            "text/plain": [
              "2451"
            ]
          },
          "metadata": {
            "tags": []
          },
          "execution_count": 38
        }
      ]
    },
    {
      "cell_type": "markdown",
      "metadata": {
        "id": "tt0aN3bGrifU"
      },
      "source": [
        "##Average Word2Vec"
      ]
    },
    {
      "cell_type": "code",
      "metadata": {
        "colab": {
          "base_uri": "https://localhost:8080/",
          "height": 66,
          "referenced_widgets": [
            "b895ac59616d418f8c0f99aae628b95f",
            "e441c95bb3ad413e8e78e63a9112c0b9",
            "e7017bde92074f8aaab2221fdb31f511",
            "29997dcb61d8465b80721faa0d34fa0b",
            "2dd8708a33684f2180bb2958a75743a1",
            "33afc176555843f196e2bfd200bc30c8",
            "ff648cfae3d94617b53466517f7464cb",
            "de570c217364443b82790f88782f4a72"
          ]
        },
        "id": "R-C9AQz-rmza",
        "outputId": "720b2cb0-04ba-4dde-c01c-58dba0ed5bf3"
      },
      "source": [
        "avg_w2v=[]\n",
        "\n",
        "for sentance in tq.tqdm(list_of_sentances):\n",
        "  temp_vect=np.zeros(50)\n",
        "  cnt=0\n",
        "  for word in sentance:\n",
        "    if word in word_vec_words:\n",
        "      vec=word_vec.wv[word]\n",
        "      temp_vect+=vec\n",
        "      cnt+=1\n",
        "  if cnt:\n",
        "    temp_vect/=cnt\n",
        "    temp_vect = np.append(temp_vect,1)\n",
        "  else:\n",
        "    temp_vect = np.append(temp_vect,0)\n",
        "  avg_w2v.append(temp_vect)"
      ],
      "execution_count": 39,
      "outputs": [
        {
          "output_type": "display_data",
          "data": {
            "application/vnd.jupyter.widget-view+json": {
              "model_id": "b895ac59616d418f8c0f99aae628b95f",
              "version_minor": 0,
              "version_major": 2
            },
            "text/plain": [
              "HBox(children=(FloatProgress(value=0.0, max=4986.0), HTML(value='')))"
            ]
          },
          "metadata": {
            "tags": []
          }
        },
        {
          "output_type": "stream",
          "text": [
            "\n"
          ],
          "name": "stdout"
        }
      ]
    },
    {
      "cell_type": "code",
      "metadata": {
        "colab": {
          "base_uri": "https://localhost:8080/"
        },
        "id": "BY22NpgAuVPi",
        "outputId": "90256bf7-e01c-4e93-9e87-5bf551984433"
      },
      "source": [
        "print(len(final))\n",
        "print(len(avg_w2v))\n",
        "print(len(avg_w2v[5]))"
      ],
      "execution_count": 40,
      "outputs": [
        {
          "output_type": "stream",
          "text": [
            "4986\n",
            "4986\n",
            "51\n"
          ],
          "name": "stdout"
        }
      ]
    },
    {
      "cell_type": "markdown",
      "metadata": {
        "id": "cDhopHaWv_so"
      },
      "source": [
        "We appended one more column to the matrix which will tell if the cnt=0 or not when cnt is not 0 this means w2v produces no vector for that sentence so that datapoint must be removed.\n",
        "\n",
        "We append vectors with no vector representation also cause we don't want to ruin the order of Score. For example if there is no vector representation for 7th sentance and we append nothing then when we will add score to our column it will mess up the order"
      ]
    },
    {
      "cell_type": "markdown",
      "metadata": {
        "id": "PMyj-DwZu579"
      },
      "source": [
        "##Tfidf W2V"
      ]
    },
    {
      "cell_type": "code",
      "metadata": {
        "id": "RDjrs4WkxKUy"
      },
      "source": [
        "# to find the idf of all the words\n",
        "\n",
        "model = TfidfVectorizer()\n",
        "model.fit(preprocessed_text)\n",
        "\n",
        "feat_words = list(model.get_feature_names())\n",
        "idf_values = list(model.idf_)"
      ],
      "execution_count": 41,
      "outputs": []
    },
    {
      "cell_type": "code",
      "metadata": {
        "colab": {
          "base_uri": "https://localhost:8080/"
        },
        "id": "NJNFwR1PyBtN",
        "outputId": "6d64a2b2-5bec-4c08-c3ab-129aa644c784"
      },
      "source": [
        "# Creating a dictionary to get the idf of words quickly\n",
        "\n",
        "idf_dictionary={}\n",
        "\n",
        "for i in range(len(feat_words)):\n",
        "  idf_dictionary[feat_words[i]] = idf_values[i]\n",
        "\n",
        "print(idf_dictionary['good'])"
      ],
      "execution_count": 42,
      "outputs": [
        {
          "output_type": "stream",
          "text": [
            "2.3231604755097433\n"
          ],
          "name": "stdout"
        }
      ]
    },
    {
      "cell_type": "code",
      "metadata": {
        "id": "QJMYdQ3-ztKQ"
      },
      "source": [
        "def tf(phrase):\n",
        "  dic={}\n",
        "  for word in phrase:\n",
        "    dic.setdefault(word,0)\n",
        "    dic[word]+=1\n",
        "  return dic"
      ],
      "execution_count": 43,
      "outputs": []
    },
    {
      "cell_type": "code",
      "metadata": {
        "colab": {
          "base_uri": "https://localhost:8080/",
          "height": 66,
          "referenced_widgets": [
            "3a4e0439f9804cd5837745e509d6cffb",
            "7abf2a67f8b048b499e62615290ebd41",
            "c14c0da21be34d98b69e623e87e41286",
            "641432016e724e3aa22899ae2204dc57",
            "e763b07668754eaea6766f0c78683a39",
            "a0b86f4fcb4d4ab78642d0c6b9f897d4",
            "53699a824dc949f5af8c08ff88698c53",
            "cb082d644d5041e5a87badb3ac7944c1"
          ]
        },
        "id": "u3lWWEU6y-ym",
        "outputId": "a1f095e0-9ef3-4d22-e708-4133c182aa80"
      },
      "source": [
        "#Creating Tfidf vector\n",
        "\n",
        "tfidf_w2v=[]\n",
        "\n",
        "for sentance in tq.tqdm(list_of_sentances):\n",
        "  temp_vect = np.zeros(50)\n",
        "  total_weight = 0.0\n",
        "  tf_dictionary = tf(sentance)\n",
        "  for word in sentance:\n",
        "    if word in word_vec_words and word in feat_words:\n",
        "      vec = word_vec.wv[word]\n",
        "      tfidf = idf_dictionary[word]*tf_dictionary[word]\n",
        "      temp_vect+=vec*tfidf\n",
        "      total_weight+=tfidf\n",
        "  if total_weight:\n",
        "    temp_vect/=total_weight\n",
        "    temp_vect=np.append(temp_vect,1)\n",
        "  else:\n",
        "    temp_vect=np.append(temp_vect,0)\n",
        "  tfidf_w2v.append(temp_vect)"
      ],
      "execution_count": 44,
      "outputs": [
        {
          "output_type": "display_data",
          "data": {
            "application/vnd.jupyter.widget-view+json": {
              "model_id": "3a4e0439f9804cd5837745e509d6cffb",
              "version_minor": 0,
              "version_major": 2
            },
            "text/plain": [
              "HBox(children=(FloatProgress(value=0.0, max=4986.0), HTML(value='')))"
            ]
          },
          "metadata": {
            "tags": []
          }
        },
        {
          "output_type": "stream",
          "text": [
            "\n"
          ],
          "name": "stdout"
        }
      ]
    },
    {
      "cell_type": "code",
      "metadata": {
        "colab": {
          "base_uri": "https://localhost:8080/"
        },
        "id": "waOmToD72gsI",
        "outputId": "3a67b3fa-6ca2-4d21-836e-3ed6858d69d9"
      },
      "source": [
        "print(len(final))\n",
        "print(len(tfidf_w2v))\n",
        "print(len(tfidf_w2v[5]))"
      ],
      "execution_count": 45,
      "outputs": [
        {
          "output_type": "stream",
          "text": [
            "4986\n",
            "4986\n",
            "51\n"
          ],
          "name": "stdout"
        }
      ]
    },
    {
      "cell_type": "markdown",
      "metadata": {
        "id": "_5F0KsnEECrD"
      },
      "source": [
        "#Plotting"
      ]
    },
    {
      "cell_type": "code",
      "metadata": {
        "colab": {
          "base_uri": "https://localhost:8080/"
        },
        "id": "ebLp-eQDEFHT",
        "outputId": "a2e8c181-cfac-4fae-b848-54827a50b724"
      },
      "source": [
        "label_i=np.array(final['Score'])\n",
        "label_i.shape"
      ],
      "execution_count": 46,
      "outputs": [
        {
          "output_type": "execute_result",
          "data": {
            "text/plain": [
              "(4986,)"
            ]
          },
          "metadata": {
            "tags": []
          },
          "execution_count": 46
        }
      ]
    },
    {
      "cell_type": "code",
      "metadata": {
        "colab": {
          "base_uri": "https://localhost:8080/"
        },
        "id": "5-YD71WNELlX",
        "outputId": "52a045d4-308c-4709-b88b-a99890f95836"
      },
      "source": [
        "label = label_i.reshape(-1,1)\n",
        "label.shape"
      ],
      "execution_count": 47,
      "outputs": [
        {
          "output_type": "execute_result",
          "data": {
            "text/plain": [
              "(4986, 1)"
            ]
          },
          "metadata": {
            "tags": []
          },
          "execution_count": 47
        }
      ]
    },
    {
      "cell_type": "markdown",
      "metadata": {
        "id": "l7WpoR3uCzTz"
      },
      "source": [
        "##PCA"
      ]
    },
    {
      "cell_type": "markdown",
      "metadata": {
        "id": "Xb-B_mtHDLl-"
      },
      "source": [
        "###PCA on BoW"
      ]
    },
    {
      "cell_type": "code",
      "metadata": {
        "colab": {
          "base_uri": "https://localhost:8080/"
        },
        "id": "C2_R8AmHIKoK",
        "outputId": "dc1eda38-1d77-49c1-8f6f-7a598f7bbedc"
      },
      "source": [
        "Bow_amazon.get_shape()"
      ],
      "execution_count": 48,
      "outputs": [
        {
          "output_type": "execute_result",
          "data": {
            "text/plain": [
              "(4986, 2268)"
            ]
          },
          "metadata": {
            "tags": []
          },
          "execution_count": 48
        }
      ]
    },
    {
      "cell_type": "code",
      "metadata": {
        "colab": {
          "base_uri": "https://localhost:8080/"
        },
        "id": "ZGeVnFjyFLiG",
        "outputId": "04019b7c-c6be-4961-e121-9efb7a785097"
      },
      "source": [
        "#converting to array\n",
        "Bow_amazon_arr = np.array(Bow_amazon.toarray())\n",
        "Bow_amazon_arr.shape"
      ],
      "execution_count": 49,
      "outputs": [
        {
          "output_type": "execute_result",
          "data": {
            "text/plain": [
              "(4986, 2268)"
            ]
          },
          "metadata": {
            "tags": []
          },
          "execution_count": 49
        }
      ]
    },
    {
      "cell_type": "code",
      "metadata": {
        "id": "jqj2BCVUC5Fh"
      },
      "source": [
        "#\n",
        "pca = decomposition.PCA()\n",
        "pca.n_components=2\n",
        "Bow_2D = pca.fit_transform(Bow_amazon_arr)"
      ],
      "execution_count": 50,
      "outputs": []
    },
    {
      "cell_type": "code",
      "metadata": {
        "colab": {
          "base_uri": "https://localhost:8080/"
        },
        "id": "u1ovhLNFJvhP",
        "outputId": "4a7407a5-5761-4ace-d7e5-79ae5538dcff"
      },
      "source": [
        "Bow_2D.shape"
      ],
      "execution_count": 51,
      "outputs": [
        {
          "output_type": "execute_result",
          "data": {
            "text/plain": [
              "(4986, 2)"
            ]
          },
          "metadata": {
            "tags": []
          },
          "execution_count": 51
        }
      ]
    },
    {
      "cell_type": "code",
      "metadata": {
        "colab": {
          "base_uri": "https://localhost:8080/",
          "height": 142
        },
        "id": "L9EGWkYOJ6Cg",
        "outputId": "6fc8022f-685d-4a90-8ce8-af3a2d949f97"
      },
      "source": [
        "# creating a dataframe to plot \n",
        "\n",
        "Bow_final = np.concatenate((Bow_2D,label),axis=1)\n",
        "Bow_final_df = pd.DataFrame(data=Bow_final,columns=(\"1st pricipal dimension\",\"2nd pricipal dimension\",\"label\"))\n",
        "Bow_final_df.head(3)"
      ],
      "execution_count": 52,
      "outputs": [
        {
          "output_type": "execute_result",
          "data": {
            "text/html": [
              "<div>\n",
              "<style scoped>\n",
              "    .dataframe tbody tr th:only-of-type {\n",
              "        vertical-align: middle;\n",
              "    }\n",
              "\n",
              "    .dataframe tbody tr th {\n",
              "        vertical-align: top;\n",
              "    }\n",
              "\n",
              "    .dataframe thead th {\n",
              "        text-align: right;\n",
              "    }\n",
              "</style>\n",
              "<table border=\"1\" class=\"dataframe\">\n",
              "  <thead>\n",
              "    <tr style=\"text-align: right;\">\n",
              "      <th></th>\n",
              "      <th>1st pricipal dimension</th>\n",
              "      <th>2nd pricipal dimension</th>\n",
              "      <th>label</th>\n",
              "    </tr>\n",
              "  </thead>\n",
              "  <tbody>\n",
              "    <tr>\n",
              "      <th>0</th>\n",
              "      <td>-1.34089</td>\n",
              "      <td>-0.0274106</td>\n",
              "      <td>positive</td>\n",
              "    </tr>\n",
              "    <tr>\n",
              "      <th>1</th>\n",
              "      <td>-0.843879</td>\n",
              "      <td>-0.153789</td>\n",
              "      <td>positive</td>\n",
              "    </tr>\n",
              "    <tr>\n",
              "      <th>2</th>\n",
              "      <td>-0.777377</td>\n",
              "      <td>-0.0503984</td>\n",
              "      <td>positive</td>\n",
              "    </tr>\n",
              "  </tbody>\n",
              "</table>\n",
              "</div>"
            ],
            "text/plain": [
              "  1st pricipal dimension 2nd pricipal dimension     label\n",
              "0               -1.34089             -0.0274106  positive\n",
              "1              -0.843879              -0.153789  positive\n",
              "2              -0.777377             -0.0503984  positive"
            ]
          },
          "metadata": {
            "tags": []
          },
          "execution_count": 52
        }
      ]
    },
    {
      "cell_type": "code",
      "metadata": {
        "colab": {
          "base_uri": "https://localhost:8080/",
          "height": 618
        },
        "id": "8dm10KX1K06O",
        "outputId": "f3995c07-d7f5-45cd-b306-d5c3ee8e9fe1"
      },
      "source": [
        "# Plotting\n",
        "\n",
        "sns.FacetGrid(Bow_final_df,hue=\"label\",size=8).map(plt.scatter,\"1st pricipal dimension\",\"2nd pricipal dimension\").add_legend()\n",
        "plt.title(\"PCA plot for Normal Bag of Word\")"
      ],
      "execution_count": 53,
      "outputs": [
        {
          "output_type": "execute_result",
          "data": {
            "text/plain": [
              "Text(0.5, 1.0, 'PCA plot for Normal Bag of Word')"
            ]
          },
          "metadata": {
            "tags": []
          },
          "execution_count": 53
        },
        {
          "output_type": "display_data",
          "data": {
            "image/png": "[encoded data removed]",
            "text/plain": [
              "<Figure size 655.75x576 with 1 Axes>"
            ]
          },
          "metadata": {
            "tags": [],
            "needs_background": "light"
          }
        }
      ]
    },
    {
      "cell_type": "markdown",
      "metadata": {
        "id": "FiJ9zogBLsQb"
      },
      "source": [
        "###PCA on trigram BoW"
      ]
    },
    {
      "cell_type": "code",
      "metadata": {
        "colab": {
          "base_uri": "https://localhost:8080/"
        },
        "id": "U5_DmpbmLsQc",
        "outputId": "96288ce9-40aa-408d-91b3-9da4b829e608"
      },
      "source": [
        "Bow_tri_amazon.get_shape()"
      ],
      "execution_count": 54,
      "outputs": [
        {
          "output_type": "execute_result",
          "data": {
            "text/plain": [
              "(4986, 3308)"
            ]
          },
          "metadata": {
            "tags": []
          },
          "execution_count": 54
        }
      ]
    },
    {
      "cell_type": "code",
      "metadata": {
        "colab": {
          "base_uri": "https://localhost:8080/"
        },
        "id": "vlhtYuxwLsQe",
        "outputId": "422541de-e06c-40f3-8930-deba803aa15e"
      },
      "source": [
        "#converting to array\n",
        "Bow_tri_amazon_arr = np.array(Bow_tri_amazon.toarray())\n",
        "Bow_tri_amazon_arr.shape"
      ],
      "execution_count": 55,
      "outputs": [
        {
          "output_type": "execute_result",
          "data": {
            "text/plain": [
              "(4986, 3308)"
            ]
          },
          "metadata": {
            "tags": []
          },
          "execution_count": 55
        }
      ]
    },
    {
      "cell_type": "code",
      "metadata": {
        "id": "dJIOpqz2LsQf"
      },
      "source": [
        "#Defining the model\n",
        "pca = decomposition.PCA()\n",
        "pca.n_components=2\n",
        "Bow_tri_2D = pca.fit_transform(Bow_tri_amazon_arr)"
      ],
      "execution_count": 56,
      "outputs": []
    },
    {
      "cell_type": "code",
      "metadata": {
        "colab": {
          "base_uri": "https://localhost:8080/"
        },
        "id": "hMsV2rm0LsQg",
        "outputId": "a71f7cd4-bf0f-4eba-c961-1fc895799204"
      },
      "source": [
        "Bow_tri_2D.shape"
      ],
      "execution_count": 57,
      "outputs": [
        {
          "output_type": "execute_result",
          "data": {
            "text/plain": [
              "(4986, 2)"
            ]
          },
          "metadata": {
            "tags": []
          },
          "execution_count": 57
        }
      ]
    },
    {
      "cell_type": "code",
      "metadata": {
        "colab": {
          "base_uri": "https://localhost:8080/",
          "height": 142
        },
        "id": "OrUTmGsmLsQh",
        "outputId": "dcac7dc7-7aa7-4db0-e241-783a3693461c"
      },
      "source": [
        "# creating a dataframe to plot \n",
        "\n",
        "Bow_tri_final = np.concatenate((Bow_tri_2D,label),axis=1)\n",
        "Bow_tri_final_df = pd.DataFrame(data=Bow_tri_final,columns=(\"1st pricipal dimension\",\"2nd pricipal dimension\",\"label\"))\n",
        "Bow_tri_final_df.head(3)"
      ],
      "execution_count": 58,
      "outputs": [
        {
          "output_type": "execute_result",
          "data": {
            "text/html": [
              "<div>\n",
              "<style scoped>\n",
              "    .dataframe tbody tr th:only-of-type {\n",
              "        vertical-align: middle;\n",
              "    }\n",
              "\n",
              "    .dataframe tbody tr th {\n",
              "        vertical-align: top;\n",
              "    }\n",
              "\n",
              "    .dataframe thead th {\n",
              "        text-align: right;\n",
              "    }\n",
              "</style>\n",
              "<table border=\"1\" class=\"dataframe\">\n",
              "  <thead>\n",
              "    <tr style=\"text-align: right;\">\n",
              "      <th></th>\n",
              "      <th>1st pricipal dimension</th>\n",
              "      <th>2nd pricipal dimension</th>\n",
              "      <th>label</th>\n",
              "    </tr>\n",
              "  </thead>\n",
              "  <tbody>\n",
              "    <tr>\n",
              "      <th>0</th>\n",
              "      <td>-1.35114</td>\n",
              "      <td>-0.0163462</td>\n",
              "      <td>positive</td>\n",
              "    </tr>\n",
              "    <tr>\n",
              "      <th>1</th>\n",
              "      <td>-0.854357</td>\n",
              "      <td>-0.137709</td>\n",
              "      <td>positive</td>\n",
              "    </tr>\n",
              "    <tr>\n",
              "      <th>2</th>\n",
              "      <td>-0.790164</td>\n",
              "      <td>-0.0210627</td>\n",
              "      <td>positive</td>\n",
              "    </tr>\n",
              "  </tbody>\n",
              "</table>\n",
              "</div>"
            ],
            "text/plain": [
              "  1st pricipal dimension 2nd pricipal dimension     label\n",
              "0               -1.35114             -0.0163462  positive\n",
              "1              -0.854357              -0.137709  positive\n",
              "2              -0.790164             -0.0210627  positive"
            ]
          },
          "metadata": {
            "tags": []
          },
          "execution_count": 58
        }
      ]
    },
    {
      "cell_type": "code",
      "metadata": {
        "colab": {
          "base_uri": "https://localhost:8080/",
          "height": 618
        },
        "id": "AoDMCm3DLsQo",
        "outputId": "d2dc3a94-f11e-4061-c117-5a2e16fdf516"
      },
      "source": [
        "# Plotting\n",
        "\n",
        "sns.FacetGrid(Bow_tri_final_df,hue=\"label\",size=8).map(plt.scatter,\"1st pricipal dimension\",\"2nd pricipal dimension\").add_legend()\n",
        "plt.title(\"PCA plot for Trigram Bag of Word\")"
      ],
      "execution_count": 59,
      "outputs": [
        {
          "output_type": "execute_result",
          "data": {
            "text/plain": [
              "Text(0.5, 1.0, 'PCA plot for Trigram Bag of Word')"
            ]
          },
          "metadata": {
            "tags": []
          },
          "execution_count": 59
        },
        {
          "output_type": "display_data",
          "data": {
            "image/png": "[encoded data removed]",
            "text/plain": [
              "<Figure size 655.75x576 with 1 Axes>"
            ]
          },
          "metadata": {
            "tags": [],
            "needs_background": "light"
          }
        }
      ]
    },
    {
      "cell_type": "markdown",
      "metadata": {
        "id": "Kc4ygbefMwTX"
      },
      "source": [
        "###PCA on tfidf BoW"
      ]
    },
    {
      "cell_type": "code",
      "metadata": {
        "colab": {
          "base_uri": "https://localhost:8080/"
        },
        "id": "9VGMUoSkMwTZ",
        "outputId": "e4c2325b-d30b-4e6d-95f2-e056413c1bfc"
      },
      "source": [
        "Bow_tfidf_amazon.get_shape()"
      ],
      "execution_count": 60,
      "outputs": [
        {
          "output_type": "execute_result",
          "data": {
            "text/plain": [
              "(4986, 3308)"
            ]
          },
          "metadata": {
            "tags": []
          },
          "execution_count": 60
        }
      ]
    },
    {
      "cell_type": "code",
      "metadata": {
        "colab": {
          "base_uri": "https://localhost:8080/"
        },
        "id": "K--wnhoyMwTa",
        "outputId": "9873e17a-f800-4022-98b9-c89fd541757f"
      },
      "source": [
        "#converting to array\n",
        "Bow_tfidf_amazon_arr = np.array(Bow_tfidf_amazon.toarray())\n",
        "Bow_tfidf_amazon_arr.shape"
      ],
      "execution_count": 61,
      "outputs": [
        {
          "output_type": "execute_result",
          "data": {
            "text/plain": [
              "(4986, 3308)"
            ]
          },
          "metadata": {
            "tags": []
          },
          "execution_count": 61
        }
      ]
    },
    {
      "cell_type": "code",
      "metadata": {
        "id": "FxKdgGjgMwTc"
      },
      "source": [
        "#Defining the model\n",
        "pca = decomposition.PCA()\n",
        "pca.n_components=2\n",
        "Bow_tfidf_2D = pca.fit_transform(Bow_tfidf_amazon_arr)"
      ],
      "execution_count": 62,
      "outputs": []
    },
    {
      "cell_type": "code",
      "metadata": {
        "colab": {
          "base_uri": "https://localhost:8080/"
        },
        "id": "UMwvQi2HMwTc",
        "outputId": "5b59d86b-9a22-43c9-df87-430e7d4d149a"
      },
      "source": [
        "Bow_tfidf_2D.shape"
      ],
      "execution_count": 63,
      "outputs": [
        {
          "output_type": "execute_result",
          "data": {
            "text/plain": [
              "(4986, 2)"
            ]
          },
          "metadata": {
            "tags": []
          },
          "execution_count": 63
        }
      ]
    },
    {
      "cell_type": "code",
      "metadata": {
        "colab": {
          "base_uri": "https://localhost:8080/",
          "height": 142
        },
        "id": "uXw4yygIMwTd",
        "outputId": "2b182d6a-b6d6-4980-f88c-3d090e845d22"
      },
      "source": [
        "# creating a dataframe to plot \n",
        "\n",
        "Bow_tfidf_final = np.concatenate((Bow_tfidf_2D,label),axis=1)\n",
        "Bow_tfidf_final_df = pd.DataFrame(data=Bow_tfidf_final,columns=(\"1st pricipal dimension\",\"2nd pricipal dimension\",\"label\"))\n",
        "Bow_tfidf_final_df.head(3)"
      ],
      "execution_count": 64,
      "outputs": [
        {
          "output_type": "execute_result",
          "data": {
            "text/html": [
              "<div>\n",
              "<style scoped>\n",
              "    .dataframe tbody tr th:only-of-type {\n",
              "        vertical-align: middle;\n",
              "    }\n",
              "\n",
              "    .dataframe tbody tr th {\n",
              "        vertical-align: top;\n",
              "    }\n",
              "\n",
              "    .dataframe thead th {\n",
              "        text-align: right;\n",
              "    }\n",
              "</style>\n",
              "<table border=\"1\" class=\"dataframe\">\n",
              "  <thead>\n",
              "    <tr style=\"text-align: right;\">\n",
              "      <th></th>\n",
              "      <th>1st pricipal dimension</th>\n",
              "      <th>2nd pricipal dimension</th>\n",
              "      <th>label</th>\n",
              "    </tr>\n",
              "  </thead>\n",
              "  <tbody>\n",
              "    <tr>\n",
              "      <th>0</th>\n",
              "      <td>-0.0102058</td>\n",
              "      <td>-0.0149318</td>\n",
              "      <td>positive</td>\n",
              "    </tr>\n",
              "    <tr>\n",
              "      <th>1</th>\n",
              "      <td>-0.0204918</td>\n",
              "      <td>-0.0299077</td>\n",
              "      <td>positive</td>\n",
              "    </tr>\n",
              "    <tr>\n",
              "      <th>2</th>\n",
              "      <td>-0.0229614</td>\n",
              "      <td>-0.0185324</td>\n",
              "      <td>positive</td>\n",
              "    </tr>\n",
              "  </tbody>\n",
              "</table>\n",
              "</div>"
            ],
            "text/plain": [
              "  1st pricipal dimension 2nd pricipal dimension     label\n",
              "0             -0.0102058             -0.0149318  positive\n",
              "1             -0.0204918             -0.0299077  positive\n",
              "2             -0.0229614             -0.0185324  positive"
            ]
          },
          "metadata": {
            "tags": []
          },
          "execution_count": 64
        }
      ]
    },
    {
      "cell_type": "code",
      "metadata": {
        "colab": {
          "base_uri": "https://localhost:8080/",
          "height": 618
        },
        "id": "axP7nI5_MwTe",
        "outputId": "4279ba8d-83b7-41a5-f4ca-c2cacceaf3b6"
      },
      "source": [
        "# Plotting\n",
        "\n",
        "sns.FacetGrid(Bow_tfidf_final_df,hue=\"label\",size=8).map(plt.scatter,\"1st pricipal dimension\",\"2nd pricipal dimension\").add_legend()\n",
        "plt.title(\"PCA plot for Tfidf Bag of Word\")"
      ],
      "execution_count": 65,
      "outputs": [
        {
          "output_type": "execute_result",
          "data": {
            "text/plain": [
              "Text(0.5, 1.0, 'PCA plot for Tfidf Bag of Word')"
            ]
          },
          "metadata": {
            "tags": []
          },
          "execution_count": 65
        },
        {
          "output_type": "display_data",
          "data": {
            "image/png": "[encoded data removed]",
            "text/plain": [
              "<Figure size 655.75x576 with 1 Axes>"
            ]
          },
          "metadata": {
            "tags": [],
            "needs_background": "light"
          }
        }
      ]
    },
    {
      "cell_type": "markdown",
      "metadata": {
        "id": "akGuT6lNNsKW"
      },
      "source": [
        "###PCA on avg Word2Vec"
      ]
    },
    {
      "cell_type": "code",
      "metadata": {
        "colab": {
          "base_uri": "https://localhost:8080/"
        },
        "id": "nK4KLEn0P3IL",
        "outputId": "3ec271d9-0aee-4ca2-cb78-4670fb671c5c"
      },
      "source": [
        "#Here we try to find label of those index for which we have a vector\n",
        "temp_df=pd.DataFrame(data=avg_w2v)\n",
        "temp_df['label']=label\n",
        "print(temp_df[50].value_counts())\n",
        "print(\"=\"*200)\n",
        "temp_df=temp_df[temp_df[50]==1]\n",
        "print(temp_df[50].value_counts())"
      ],
      "execution_count": 66,
      "outputs": [
        {
          "output_type": "stream",
          "text": [
            "1.0    4971\n",
            "0.0      15\n",
            "Name: 50, dtype: int64\n",
            "========================================================================================================================================================================================================\n",
            "1.0    4971\n",
            "Name: 50, dtype: int64\n"
          ],
          "name": "stdout"
        }
      ]
    },
    {
      "cell_type": "code",
      "metadata": {
        "colab": {
          "base_uri": "https://localhost:8080/"
        },
        "id": "OPyxG98VRl1H",
        "outputId": "c2576ac6-c29b-4630-c47a-d7e47ed224bf"
      },
      "source": [
        "#Saving the label in an array\n",
        "label_avg=np.array(temp_df['label'])\n",
        "print(len(label_avg))\n",
        "label_avg=label_avg.reshape(-1,1)\n",
        "label_avg.shape"
      ],
      "execution_count": 67,
      "outputs": [
        {
          "output_type": "stream",
          "text": [
            "4971\n"
          ],
          "name": "stdout"
        },
        {
          "output_type": "execute_result",
          "data": {
            "text/plain": [
              "(4971, 1)"
            ]
          },
          "metadata": {
            "tags": []
          },
          "execution_count": 67
        }
      ]
    },
    {
      "cell_type": "code",
      "metadata": {
        "colab": {
          "base_uri": "https://localhost:8080/",
          "height": 100
        },
        "id": "nAzL0NcjRvZA",
        "outputId": "6381b87d-123d-49ca-e70a-0bc721f203f3"
      },
      "source": [
        "#Dropping the columns label and 50 so that we are left with 50dim vector\n",
        "temp_df = temp_df.drop(['label',50],axis=1)\n",
        "temp_df.head(1)"
      ],
      "execution_count": 68,
      "outputs": [
        {
          "output_type": "execute_result",
          "data": {
            "text/html": [
              "<div>\n",
              "<style scoped>\n",
              "    .dataframe tbody tr th:only-of-type {\n",
              "        vertical-align: middle;\n",
              "    }\n",
              "\n",
              "    .dataframe tbody tr th {\n",
              "        vertical-align: top;\n",
              "    }\n",
              "\n",
              "    .dataframe thead th {\n",
              "        text-align: right;\n",
              "    }\n",
              "</style>\n",
              "<table border=\"1\" class=\"dataframe\">\n",
              "  <thead>\n",
              "    <tr style=\"text-align: right;\">\n",
              "      <th></th>\n",
              "      <th>0</th>\n",
              "      <th>1</th>\n",
              "      <th>2</th>\n",
              "      <th>3</th>\n",
              "      <th>4</th>\n",
              "      <th>5</th>\n",
              "      <th>6</th>\n",
              "      <th>7</th>\n",
              "      <th>8</th>\n",
              "      <th>9</th>\n",
              "      <th>10</th>\n",
              "      <th>11</th>\n",
              "      <th>12</th>\n",
              "      <th>13</th>\n",
              "      <th>14</th>\n",
              "      <th>15</th>\n",
              "      <th>16</th>\n",
              "      <th>17</th>\n",
              "      <th>18</th>\n",
              "      <th>19</th>\n",
              "      <th>20</th>\n",
              "      <th>21</th>\n",
              "      <th>22</th>\n",
              "      <th>23</th>\n",
              "      <th>24</th>\n",
              "      <th>25</th>\n",
              "      <th>26</th>\n",
              "      <th>27</th>\n",
              "      <th>28</th>\n",
              "      <th>29</th>\n",
              "      <th>30</th>\n",
              "      <th>31</th>\n",
              "      <th>32</th>\n",
              "      <th>33</th>\n",
              "      <th>34</th>\n",
              "      <th>35</th>\n",
              "      <th>36</th>\n",
              "      <th>37</th>\n",
              "      <th>38</th>\n",
              "      <th>39</th>\n",
              "      <th>40</th>\n",
              "      <th>41</th>\n",
              "      <th>42</th>\n",
              "      <th>43</th>\n",
              "      <th>44</th>\n",
              "      <th>45</th>\n",
              "      <th>46</th>\n",
              "      <th>47</th>\n",
              "      <th>48</th>\n",
              "      <th>49</th>\n",
              "    </tr>\n",
              "  </thead>\n",
              "  <tbody>\n",
              "    <tr>\n",
              "      <th>0</th>\n",
              "      <td>0.479745</td>\n",
              "      <td>0.334812</td>\n",
              "      <td>-0.314235</td>\n",
              "      <td>0.433091</td>\n",
              "      <td>0.061254</td>\n",
              "      <td>-0.286687</td>\n",
              "      <td>0.002204</td>\n",
              "      <td>0.320127</td>\n",
              "      <td>-0.111288</td>\n",
              "      <td>-0.287857</td>\n",
              "      <td>0.24113</td>\n",
              "      <td>-0.394636</td>\n",
              "      <td>-0.213862</td>\n",
              "      <td>0.014171</td>\n",
              "      <td>-0.006957</td>\n",
              "      <td>-0.125098</td>\n",
              "      <td>-0.434331</td>\n",
              "      <td>-0.39442</td>\n",
              "      <td>-0.126468</td>\n",
              "      <td>-0.405332</td>\n",
              "      <td>-0.152142</td>\n",
              "      <td>-0.381323</td>\n",
              "      <td>-0.006129</td>\n",
              "      <td>0.467666</td>\n",
              "      <td>-0.140978</td>\n",
              "      <td>-0.00659</td>\n",
              "      <td>-0.156932</td>\n",
              "      <td>-0.249137</td>\n",
              "      <td>0.200138</td>\n",
              "      <td>-0.454823</td>\n",
              "      <td>0.125991</td>\n",
              "      <td>0.08087</td>\n",
              "      <td>-0.712942</td>\n",
              "      <td>0.463383</td>\n",
              "      <td>-0.138412</td>\n",
              "      <td>-0.231135</td>\n",
              "      <td>0.179003</td>\n",
              "      <td>0.487284</td>\n",
              "      <td>0.087989</td>\n",
              "      <td>-0.543538</td>\n",
              "      <td>0.55675</td>\n",
              "      <td>0.21892</td>\n",
              "      <td>-0.215734</td>\n",
              "      <td>-0.060933</td>\n",
              "      <td>-0.201306</td>\n",
              "      <td>-0.112912</td>\n",
              "      <td>0.37314</td>\n",
              "      <td>-0.088525</td>\n",
              "      <td>0.098195</td>\n",
              "      <td>0.070318</td>\n",
              "    </tr>\n",
              "  </tbody>\n",
              "</table>\n",
              "</div>"
            ],
            "text/plain": [
              "         0         1         2   ...        47        48        49\n",
              "0  0.479745  0.334812 -0.314235  ... -0.088525  0.098195  0.070318\n",
              "\n",
              "[1 rows x 50 columns]"
            ]
          },
          "metadata": {
            "tags": []
          },
          "execution_count": 68
        }
      ]
    },
    {
      "cell_type": "code",
      "metadata": {
        "colab": {
          "base_uri": "https://localhost:8080/"
        },
        "id": "d5Tj3N0nS4sn",
        "outputId": "b23cd3b2-9d4b-41d7-cceb-cc221161226d"
      },
      "source": [
        "temp_df.shape"
      ],
      "execution_count": 69,
      "outputs": [
        {
          "output_type": "execute_result",
          "data": {
            "text/plain": [
              "(4971, 50)"
            ]
          },
          "metadata": {
            "tags": []
          },
          "execution_count": 69
        }
      ]
    },
    {
      "cell_type": "code",
      "metadata": {
        "colab": {
          "base_uri": "https://localhost:8080/"
        },
        "id": "Vi_RpI6pS-UM",
        "outputId": "28b99731-411c-4cea-fd41-cdd1e27a669c"
      },
      "source": [
        "#Saving the values in a nd array to perform pca\n",
        "\n",
        "avg_w2v_vectors = np.array(temp_df)\n",
        "avg_w2v_vectors.shape"
      ],
      "execution_count": 70,
      "outputs": [
        {
          "output_type": "execute_result",
          "data": {
            "text/plain": [
              "(4971, 50)"
            ]
          },
          "metadata": {
            "tags": []
          },
          "execution_count": 70
        }
      ]
    },
    {
      "cell_type": "code",
      "metadata": {
        "colab": {
          "base_uri": "https://localhost:8080/"
        },
        "id": "hB17dtXONg6B",
        "outputId": "17c5d02a-c214-46eb-aee5-ee7c7ac9275b"
      },
      "source": [
        "#Defining Model\n",
        "pca=decomposition.PCA()\n",
        "pca.n_components=2\n",
        "avg_w2v_2D = pca.fit_transform(avg_w2v_vectors)\n",
        "avg_w2v_2D.shape"
      ],
      "execution_count": 71,
      "outputs": [
        {
          "output_type": "execute_result",
          "data": {
            "text/plain": [
              "(4971, 2)"
            ]
          },
          "metadata": {
            "tags": []
          },
          "execution_count": 71
        }
      ]
    },
    {
      "cell_type": "code",
      "metadata": {
        "colab": {
          "base_uri": "https://localhost:8080/",
          "height": 97
        },
        "id": "tpKX4pc5T_rj",
        "outputId": "2de8e420-0ecc-4509-afc4-076016a0c63b"
      },
      "source": [
        "#Appending label and creating a dataframe\n",
        "avg_w2v_int = np.concatenate((avg_w2v_2D,label_avg),axis=1)\n",
        "print(avg_w2v_int.shape)\n",
        "avg_w2v_2D_df = pd.DataFrame(data=avg_w2v_int,columns=(\"1st pricipal dimension\",\"2nd pricipal dimension\",\"label\"))\n",
        "avg_w2v_2D_df.head(1)"
      ],
      "execution_count": 72,
      "outputs": [
        {
          "output_type": "stream",
          "text": [
            "(4971, 3)\n"
          ],
          "name": "stdout"
        },
        {
          "output_type": "execute_result",
          "data": {
            "text/html": [
              "<div>\n",
              "<style scoped>\n",
              "    .dataframe tbody tr th:only-of-type {\n",
              "        vertical-align: middle;\n",
              "    }\n",
              "\n",
              "    .dataframe tbody tr th {\n",
              "        vertical-align: top;\n",
              "    }\n",
              "\n",
              "    .dataframe thead th {\n",
              "        text-align: right;\n",
              "    }\n",
              "</style>\n",
              "<table border=\"1\" class=\"dataframe\">\n",
              "  <thead>\n",
              "    <tr style=\"text-align: right;\">\n",
              "      <th></th>\n",
              "      <th>1st pricipal dimension</th>\n",
              "      <th>2nd pricipal dimension</th>\n",
              "      <th>label</th>\n",
              "    </tr>\n",
              "  </thead>\n",
              "  <tbody>\n",
              "    <tr>\n",
              "      <th>0</th>\n",
              "      <td>0.0945378</td>\n",
              "      <td>0.137978</td>\n",
              "      <td>positive</td>\n",
              "    </tr>\n",
              "  </tbody>\n",
              "</table>\n",
              "</div>"
            ],
            "text/plain": [
              "  1st pricipal dimension 2nd pricipal dimension     label\n",
              "0              0.0945378               0.137978  positive"
            ]
          },
          "metadata": {
            "tags": []
          },
          "execution_count": 72
        }
      ]
    },
    {
      "cell_type": "code",
      "metadata": {
        "colab": {
          "base_uri": "https://localhost:8080/",
          "height": 618
        },
        "id": "Yfkaar58V_K0",
        "outputId": "0ab8d00b-529b-4a11-b19c-12e6338351d4"
      },
      "source": [
        "#Plotting\n",
        "\n",
        "sns.FacetGrid(avg_w2v_2D_df,hue=\"label\",size=8).map(plt.scatter,\"1st pricipal dimension\",\"2nd pricipal dimension\").add_legend()\n",
        "plt.title(\"Average Word2Vec plotted by PCA\")"
      ],
      "execution_count": 73,
      "outputs": [
        {
          "output_type": "execute_result",
          "data": {
            "text/plain": [
              "Text(0.5, 1.0, 'Average Word2Vec plotted by PCA')"
            ]
          },
          "metadata": {
            "tags": []
          },
          "execution_count": 73
        },
        {
          "output_type": "display_data",
          "data": {
            "image/png": "[encoded data removed]",
            "text/plain": [
              "<Figure size 655.75x576 with 1 Axes>"
            ]
          },
          "metadata": {
            "tags": [],
            "needs_background": "light"
          }
        }
      ]
    },
    {
      "cell_type": "markdown",
      "metadata": {
        "id": "nTbIoPN1X3JN"
      },
      "source": [
        "###PCA on Tfidf Word2Vec"
      ]
    },
    {
      "cell_type": "code",
      "metadata": {
        "colab": {
          "base_uri": "https://localhost:8080/"
        },
        "id": "vP8apPGoX3JP",
        "outputId": "0026926a-5913-47fa-ae2f-a399644418bc"
      },
      "source": [
        "#Here we try to find label of those index for which we have a vector\n",
        "temp_df=pd.DataFrame(data=tfidf_w2v)\n",
        "temp_df['label']=label\n",
        "print(temp_df[50].value_counts())\n",
        "print(\"=\"*200)\n",
        "temp_df=temp_df[temp_df[50]==1]\n",
        "print(temp_df[50].value_counts())"
      ],
      "execution_count": 74,
      "outputs": [
        {
          "output_type": "stream",
          "text": [
            "1.0    4971\n",
            "0.0      15\n",
            "Name: 50, dtype: int64\n",
            "========================================================================================================================================================================================================\n",
            "1.0    4971\n",
            "Name: 50, dtype: int64\n"
          ],
          "name": "stdout"
        }
      ]
    },
    {
      "cell_type": "code",
      "metadata": {
        "colab": {
          "base_uri": "https://localhost:8080/"
        },
        "id": "QvU7GZQkX3JR",
        "outputId": "a93b126a-47b4-423e-f2a1-833a4973d80d"
      },
      "source": [
        "#Saving the label in an array\n",
        "label_tfidf=np.array(temp_df['label'])\n",
        "print(len(label_tfidf))\n",
        "label_tfidf=label_tfidf.reshape(-1,1)\n",
        "label_tfidf.shape"
      ],
      "execution_count": 75,
      "outputs": [
        {
          "output_type": "stream",
          "text": [
            "4971\n"
          ],
          "name": "stdout"
        },
        {
          "output_type": "execute_result",
          "data": {
            "text/plain": [
              "(4971, 1)"
            ]
          },
          "metadata": {
            "tags": []
          },
          "execution_count": 75
        }
      ]
    },
    {
      "cell_type": "code",
      "metadata": {
        "colab": {
          "base_uri": "https://localhost:8080/",
          "height": 100
        },
        "id": "V6oGfACkX3JS",
        "outputId": "9b729950-fbb9-43bb-b353-f4491d9f3b2a"
      },
      "source": [
        "#Dropping the columns label and 50 so that we are left with 50dim vector\n",
        "temp_df = temp_df.drop(['label',50],axis=1)\n",
        "temp_df.head(1)"
      ],
      "execution_count": 76,
      "outputs": [
        {
          "output_type": "execute_result",
          "data": {
            "text/html": [
              "<div>\n",
              "<style scoped>\n",
              "    .dataframe tbody tr th:only-of-type {\n",
              "        vertical-align: middle;\n",
              "    }\n",
              "\n",
              "    .dataframe tbody tr th {\n",
              "        vertical-align: top;\n",
              "    }\n",
              "\n",
              "    .dataframe thead th {\n",
              "        text-align: right;\n",
              "    }\n",
              "</style>\n",
              "<table border=\"1\" class=\"dataframe\">\n",
              "  <thead>\n",
              "    <tr style=\"text-align: right;\">\n",
              "      <th></th>\n",
              "      <th>0</th>\n",
              "      <th>1</th>\n",
              "      <th>2</th>\n",
              "      <th>3</th>\n",
              "      <th>4</th>\n",
              "      <th>5</th>\n",
              "      <th>6</th>\n",
              "      <th>7</th>\n",
              "      <th>8</th>\n",
              "      <th>9</th>\n",
              "      <th>10</th>\n",
              "      <th>11</th>\n",
              "      <th>12</th>\n",
              "      <th>13</th>\n",
              "      <th>14</th>\n",
              "      <th>15</th>\n",
              "      <th>16</th>\n",
              "      <th>17</th>\n",
              "      <th>18</th>\n",
              "      <th>19</th>\n",
              "      <th>20</th>\n",
              "      <th>21</th>\n",
              "      <th>22</th>\n",
              "      <th>23</th>\n",
              "      <th>24</th>\n",
              "      <th>25</th>\n",
              "      <th>26</th>\n",
              "      <th>27</th>\n",
              "      <th>28</th>\n",
              "      <th>29</th>\n",
              "      <th>30</th>\n",
              "      <th>31</th>\n",
              "      <th>32</th>\n",
              "      <th>33</th>\n",
              "      <th>34</th>\n",
              "      <th>35</th>\n",
              "      <th>36</th>\n",
              "      <th>37</th>\n",
              "      <th>38</th>\n",
              "      <th>39</th>\n",
              "      <th>40</th>\n",
              "      <th>41</th>\n",
              "      <th>42</th>\n",
              "      <th>43</th>\n",
              "      <th>44</th>\n",
              "      <th>45</th>\n",
              "      <th>46</th>\n",
              "      <th>47</th>\n",
              "      <th>48</th>\n",
              "      <th>49</th>\n",
              "    </tr>\n",
              "  </thead>\n",
              "  <tbody>\n",
              "    <tr>\n",
              "      <th>0</th>\n",
              "      <td>0.455335</td>\n",
              "      <td>0.308536</td>\n",
              "      <td>-0.283088</td>\n",
              "      <td>0.396696</td>\n",
              "      <td>0.06118</td>\n",
              "      <td>-0.266411</td>\n",
              "      <td>0.005047</td>\n",
              "      <td>0.292161</td>\n",
              "      <td>-0.094596</td>\n",
              "      <td>-0.26297</td>\n",
              "      <td>0.228483</td>\n",
              "      <td>-0.366125</td>\n",
              "      <td>-0.199085</td>\n",
              "      <td>0.021328</td>\n",
              "      <td>-0.00861</td>\n",
              "      <td>-0.11304</td>\n",
              "      <td>-0.407814</td>\n",
              "      <td>-0.361293</td>\n",
              "      <td>-0.112339</td>\n",
              "      <td>-0.36683</td>\n",
              "      <td>-0.130639</td>\n",
              "      <td>-0.350838</td>\n",
              "      <td>-0.000617</td>\n",
              "      <td>0.439684</td>\n",
              "      <td>-0.134396</td>\n",
              "      <td>-0.002873</td>\n",
              "      <td>-0.146083</td>\n",
              "      <td>-0.224655</td>\n",
              "      <td>0.185618</td>\n",
              "      <td>-0.418581</td>\n",
              "      <td>0.117403</td>\n",
              "      <td>0.075344</td>\n",
              "      <td>-0.661933</td>\n",
              "      <td>0.427441</td>\n",
              "      <td>-0.129009</td>\n",
              "      <td>-0.218832</td>\n",
              "      <td>0.170329</td>\n",
              "      <td>0.455046</td>\n",
              "      <td>0.089608</td>\n",
              "      <td>-0.504377</td>\n",
              "      <td>0.514678</td>\n",
              "      <td>0.204268</td>\n",
              "      <td>-0.208133</td>\n",
              "      <td>-0.046998</td>\n",
              "      <td>-0.18304</td>\n",
              "      <td>-0.103453</td>\n",
              "      <td>0.344683</td>\n",
              "      <td>-0.083788</td>\n",
              "      <td>0.087208</td>\n",
              "      <td>0.065822</td>\n",
              "    </tr>\n",
              "  </tbody>\n",
              "</table>\n",
              "</div>"
            ],
            "text/plain": [
              "         0         1         2   ...        47        48        49\n",
              "0  0.455335  0.308536 -0.283088  ... -0.083788  0.087208  0.065822\n",
              "\n",
              "[1 rows x 50 columns]"
            ]
          },
          "metadata": {
            "tags": []
          },
          "execution_count": 76
        }
      ]
    },
    {
      "cell_type": "code",
      "metadata": {
        "colab": {
          "base_uri": "https://localhost:8080/"
        },
        "id": "4Yq50uYzX3JT",
        "outputId": "c86fe502-0125-4f91-d3b1-2995436303df"
      },
      "source": [
        "temp_df.shape"
      ],
      "execution_count": 77,
      "outputs": [
        {
          "output_type": "execute_result",
          "data": {
            "text/plain": [
              "(4971, 50)"
            ]
          },
          "metadata": {
            "tags": []
          },
          "execution_count": 77
        }
      ]
    },
    {
      "cell_type": "code",
      "metadata": {
        "colab": {
          "base_uri": "https://localhost:8080/"
        },
        "id": "ZGUFOl4wX3JU",
        "outputId": "b5fbbbe5-d651-4884-f420-13be834cb5bb"
      },
      "source": [
        "#Saving the values in a nd array to perform pca\n",
        "\n",
        "tfidf_w2v_vectors = np.array(temp_df)\n",
        "tfidf_w2v_vectors.shape"
      ],
      "execution_count": 78,
      "outputs": [
        {
          "output_type": "execute_result",
          "data": {
            "text/plain": [
              "(4971, 50)"
            ]
          },
          "metadata": {
            "tags": []
          },
          "execution_count": 78
        }
      ]
    },
    {
      "cell_type": "code",
      "metadata": {
        "colab": {
          "base_uri": "https://localhost:8080/"
        },
        "id": "VDoh5UtvX3JV",
        "outputId": "1d1a2812-4c05-4192-b6c7-0ab7ae55b06b"
      },
      "source": [
        "#Defining Model\n",
        "pca=decomposition.PCA()\n",
        "pca.n_components=2\n",
        "tfidf_w2v_2D = pca.fit_transform(tfidf_w2v_vectors)\n",
        "tfidf_w2v_2D.shape"
      ],
      "execution_count": 79,
      "outputs": [
        {
          "output_type": "execute_result",
          "data": {
            "text/plain": [
              "(4971, 2)"
            ]
          },
          "metadata": {
            "tags": []
          },
          "execution_count": 79
        }
      ]
    },
    {
      "cell_type": "code",
      "metadata": {
        "colab": {
          "base_uri": "https://localhost:8080/",
          "height": 97
        },
        "id": "5dOUqjK-X3JV",
        "outputId": "9101070d-8c6d-4ac2-bf77-827c705cc293"
      },
      "source": [
        "#Appending label and creating a dataframe\n",
        "tfidf_w2v_int = np.concatenate((tfidf_w2v_2D,label_tfidf),axis=1)\n",
        "print(tfidf_w2v_int.shape)\n",
        "tfidf_w2v_2D_df = pd.DataFrame(data=tfidf_w2v_int,columns=(\"1st pricipal dimension\",\"2nd pricipal dimension\",\"label\"))\n",
        "tfidf_w2v_2D_df.head(1)"
      ],
      "execution_count": 80,
      "outputs": [
        {
          "output_type": "stream",
          "text": [
            "(4971, 3)\n"
          ],
          "name": "stdout"
        },
        {
          "output_type": "execute_result",
          "data": {
            "text/html": [
              "<div>\n",
              "<style scoped>\n",
              "    .dataframe tbody tr th:only-of-type {\n",
              "        vertical-align: middle;\n",
              "    }\n",
              "\n",
              "    .dataframe tbody tr th {\n",
              "        vertical-align: top;\n",
              "    }\n",
              "\n",
              "    .dataframe thead th {\n",
              "        text-align: right;\n",
              "    }\n",
              "</style>\n",
              "<table border=\"1\" class=\"dataframe\">\n",
              "  <thead>\n",
              "    <tr style=\"text-align: right;\">\n",
              "      <th></th>\n",
              "      <th>1st pricipal dimension</th>\n",
              "      <th>2nd pricipal dimension</th>\n",
              "      <th>label</th>\n",
              "    </tr>\n",
              "  </thead>\n",
              "  <tbody>\n",
              "    <tr>\n",
              "      <th>0</th>\n",
              "      <td>0.124221</td>\n",
              "      <td>-0.214806</td>\n",
              "      <td>positive</td>\n",
              "    </tr>\n",
              "  </tbody>\n",
              "</table>\n",
              "</div>"
            ],
            "text/plain": [
              "  1st pricipal dimension 2nd pricipal dimension     label\n",
              "0               0.124221              -0.214806  positive"
            ]
          },
          "metadata": {
            "tags": []
          },
          "execution_count": 80
        }
      ]
    },
    {
      "cell_type": "code",
      "metadata": {
        "colab": {
          "base_uri": "https://localhost:8080/",
          "height": 618
        },
        "id": "QGNo_A4sX3JW",
        "outputId": "43881393-ddf6-4139-85bd-40ddb3adb836"
      },
      "source": [
        "#Plotting\n",
        "\n",
        "sns.FacetGrid(tfidf_w2v_2D_df,hue=\"label\",size=8).map(plt.scatter,\"1st pricipal dimension\",\"2nd pricipal dimension\").add_legend()\n",
        "plt.title(\"Tfidf Word2Vec plotted by PCA\")"
      ],
      "execution_count": 81,
      "outputs": [
        {
          "output_type": "execute_result",
          "data": {
            "text/plain": [
              "Text(0.5, 1.0, 'Tfidf Word2Vec plotted by PCA')"
            ]
          },
          "metadata": {
            "tags": []
          },
          "execution_count": 81
        },
        {
          "output_type": "display_data",
          "data": {
            "image/png": "[encoded data removed]",
            "text/plain": [
              "<Figure size 655.75x576 with 1 Axes>"
            ]
          },
          "metadata": {
            "tags": [],
            "needs_background": "light"
          }
        }
      ]
    },
    {
      "cell_type": "markdown",
      "metadata": {
        "id": "sKlduve1ZMxv"
      },
      "source": [
        "##T-SNE"
      ]
    },
    {
      "cell_type": "markdown",
      "metadata": {
        "id": "gI7EiwzLZjbS"
      },
      "source": [
        "###BoW"
      ]
    },
    {
      "cell_type": "code",
      "metadata": {
        "colab": {
          "base_uri": "https://localhost:8080/",
          "height": 616
        },
        "id": "5E2uXijmZn7T",
        "outputId": "91515374-c90d-4841-b0f9-0e40280ca21f"
      },
      "source": [
        "model = TSNE(n_components=2,n_iter=5000,perplexity=30)\n",
        "tsne_bow = model.fit_transform(Bow_amazon_arr)\n",
        "\n",
        "tsne_bow_final = np.concatenate((tsne_bow,label),axis=1)\n",
        "tsne_bow_df = pd.DataFrame(data=tsne_bow_final,columns=(\"1st pricipal dimension\",\"2nd pricipal dimension\",\"label\"))\n",
        "\n",
        "sns.FacetGrid(tsne_bow_df,hue=\"label\",size=8).map(plt.scatter,\"1st pricipal dimension\",\"2nd pricipal dimension\").add_legend()\n",
        "plt.title(\"Normal Bag of Word with T-SNE\")"
      ],
      "execution_count": 82,
      "outputs": [
        {
          "output_type": "execute_result",
          "data": {
            "text/plain": [
              "Text(0.5, 1.0, 'Normal Bag of Word with T-SNE')"
            ]
          },
          "metadata": {
            "tags": []
          },
          "execution_count": 82
        },
        {
          "output_type": "display_data",
          "data": {
            "image/png": "[encoded data removed]",
            "text/plain": [
              "<Figure size 655.75x576 with 1 Axes>"
            ]
          },
          "metadata": {
            "tags": [],
            "needs_background": "light"
          }
        }
      ]
    },
    {
      "cell_type": "markdown",
      "metadata": {
        "id": "VAujebSVjDBk"
      },
      "source": [
        "###Trigram Bag of Word"
      ]
    },
    {
      "cell_type": "code",
      "metadata": {
        "colab": {
          "base_uri": "https://localhost:8080/",
          "height": 618
        },
        "id": "neb98Q87jChr",
        "outputId": "30736a76-d583-4c6b-a56f-6ab0c74ea549"
      },
      "source": [
        "model = TSNE(n_components=2,n_iter=5000,perplexity=30)\n",
        "tsne_bow_tri = model.fit_transform(Bow_tri_amazon_arr)\n",
        "\n",
        "tsne_bow_tri_final = np.concatenate((tsne_bow_tri,label),axis=1)\n",
        "tsne_bow_tri_df = pd.DataFrame(data=tsne_bow_tri_final,columns=(\"1st pricipal dimension\",\"2nd pricipal dimension\",\"label\"))\n",
        "\n",
        "sns.FacetGrid(tsne_bow_tri_df,hue=\"label\",size=8).map(plt.scatter,\"1st pricipal dimension\",\"2nd pricipal dimension\").add_legend()\n",
        "plt.title(\"Trigram Bag of Word with T-SNE\")"
      ],
      "execution_count": 83,
      "outputs": [
        {
          "output_type": "execute_result",
          "data": {
            "text/plain": [
              "Text(0.5, 1.0, 'Trigram Bag of Word with T-SNE')"
            ]
          },
          "metadata": {
            "tags": []
          },
          "execution_count": 83
        },
        {
          "output_type": "display_data",
          "data": {
            "image/png": "[encoded data removed]",
            "text/plain": [
              "<Figure size 655.75x576 with 1 Axes>"
            ]
          },
          "metadata": {
            "tags": [],
            "needs_background": "light"
          }
        }
      ]
    },
    {
      "cell_type": "markdown",
      "metadata": {
        "id": "eBngFzpnkWr0"
      },
      "source": [
        "###Tfidf Bag of Word"
      ]
    },
    {
      "cell_type": "code",
      "metadata": {
        "colab": {
          "base_uri": "https://localhost:8080/",
          "height": 618
        },
        "id": "YvkiNAypjzom",
        "outputId": "3cb257fb-d764-4fdc-86f3-22e4f91a0afa"
      },
      "source": [
        "model = TSNE(n_components=2,n_iter=5000,perplexity=30)\n",
        "tsne_bow_tfidf = model.fit_transform(Bow_tfidf_amazon_arr)\n",
        "\n",
        "tsne_bow_tfidf_final = np.concatenate((tsne_bow_tfidf,label),axis=1)\n",
        "tsne_bow_tfidf_df = pd.DataFrame(data=tsne_bow_tfidf_final,columns=(\"1st pricipal dimension\",\"2nd pricipal dimension\",\"label\"))\n",
        "\n",
        "sns.FacetGrid(tsne_bow_tfidf_df,hue=\"label\",size=8).map(plt.scatter,\"1st pricipal dimension\",\"2nd pricipal dimension\").add_legend()\n",
        "plt.title(\"Tfidf Bag of Word with T-SNE\")"
      ],
      "execution_count": 84,
      "outputs": [
        {
          "output_type": "execute_result",
          "data": {
            "text/plain": [
              "Text(0.5, 1.0, 'Tfidf Bag of Word with T-SNE')"
            ]
          },
          "metadata": {
            "tags": []
          },
          "execution_count": 84
        },
        {
          "output_type": "display_data",
          "data": {
            "image/png": "[encoded data removed]",
            "text/plain": [
              "<Figure size 655.75x576 with 1 Axes>"
            ]
          },
          "metadata": {
            "tags": [],
            "needs_background": "light"
          }
        }
      ]
    },
    {
      "cell_type": "markdown",
      "metadata": {
        "id": "lzW6F2C-kaYH"
      },
      "source": [
        "###Average Word2Vec"
      ]
    },
    {
      "cell_type": "code",
      "metadata": {
        "id": "meWCiQ30kaYI",
        "colab": {
          "base_uri": "https://localhost:8080/",
          "height": 616
        },
        "outputId": "59c25132-92fd-40c9-b2a4-74a3a130a6ff"
      },
      "source": [
        "model = TSNE(n_components=2,n_iter=5000,perplexity=30)\n",
        "tsne_avg_w2v = model.fit_transform(avg_w2v_vectors)\n",
        "\n",
        "tsne_avg_w2v_final = np.concatenate((tsne_avg_w2v,label_avg),axis=1)\n",
        "tsne_avg_w2v_df = pd.DataFrame(data=tsne_avg_w2v_final,columns=(\"1st pricipal dimension\",\"2nd pricipal dimension\",\"label\"))\n",
        "\n",
        "sns.FacetGrid(tsne_avg_w2v_df,hue=\"label\",size=8).map(plt.scatter,\"1st pricipal dimension\",\"2nd pricipal dimension\").add_legend()\n",
        "plt.title(\"Average W2V with T-SNE\")"
      ],
      "execution_count": 85,
      "outputs": [
        {
          "output_type": "execute_result",
          "data": {
            "text/plain": [
              "Text(0.5, 1.0, 'Average W2V with T-SNE')"
            ]
          },
          "metadata": {
            "tags": []
          },
          "execution_count": 85
        },
        {
          "output_type": "display_data",
          "data": {
            "image/png": "[encoded data removed]",
            "text/plain": [
              "<Figure size 655.75x576 with 1 Axes>"
            ]
          },
          "metadata": {
            "tags": [],
            "needs_background": "light"
          }
        }
      ]
    },
    {
      "cell_type": "markdown",
      "metadata": {
        "id": "lqpVCWHUkatD"
      },
      "source": [
        "###Tfidf Bag of Word"
      ]
    },
    {
      "cell_type": "code",
      "metadata": {
        "colab": {
          "base_uri": "https://localhost:8080/",
          "height": 618
        },
        "id": "j-_8pAEVkatF",
        "outputId": "badefcd6-1756-4a21-e736-02f2778f388e"
      },
      "source": [
        "model = TSNE(n_components=2,n_iter=5000,perplexity=30)\n",
        "tsne_tfidf_w2v = model.fit_transform(tfidf_w2v_vectors)\n",
        "\n",
        "tsne_tfidf_w2v_final = np.concatenate((tsne_tfidf_w2v,label_tfidf),axis=1)\n",
        "tsne_tfidf_w2v_df = pd.DataFrame(data=tsne_tfidf_w2v_final,columns=(\"1st pricipal dimension\",\"2nd pricipal dimension\",\"label\"))\n",
        "\n",
        "sns.FacetGrid(tsne_tfidf_w2v_df,hue=\"label\",size=8).map(plt.scatter,\"1st pricipal dimension\",\"2nd pricipal dimension\").add_legend()\n",
        "plt.title(\"Tfidf W2V. with T-SNE\")"
      ],
      "execution_count": 86,
      "outputs": [
        {
          "output_type": "execute_result",
          "data": {
            "text/plain": [
              "Text(0.5, 1.0, 'Tfidf W2V. with T-SNE')"
            ]
          },
          "metadata": {
            "tags": []
          },
          "execution_count": 86
        },
        {
          "output_type": "display_data",
          "data": {
            "image/png": "[encoded data removed]",
            "text/plain": [
              "<Figure size 655.75x576 with 1 Axes>"
            ]
          },
          "metadata": {
            "tags": [],
            "needs_background": "light"
          }
        }
      ]
    },
    {
      "cell_type": "markdown",
      "metadata": {
        "id": "pc0hO4jCZmaE"
      },
      "source": [
        "#Further Modification"
      ]
    },
    {
      "cell_type": "markdown",
      "metadata": {
        "id": "dRrVF9dXZp62"
      },
      "source": [
        "1. While training the word2vec model our complete dataset could have been used and then for converting it to sentances to a vector(the time consuming task ) only a portion of the data could have been used"
      ]
    }
  ]
}