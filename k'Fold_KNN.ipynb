{
  "nbformat": 4,
  "nbformat_minor": 0,
  "metadata": {
    "colab": {
      "name": "k'Fold KNN.ipynb",
      "provenance": [],
      "authorship_tag": "ABX9TyOwu0chePuhQbtXqeyhPXhT",
      "include_colab_link": true
    },
    "kernelspec": {
      "name": "python3",
      "display_name": "Python 3"
    },
    "language_info": {
      "name": "python"
    }
  },
  "cells": [
    {
      "cell_type": "markdown",
      "metadata": {
        "id": "view-in-github",
        "colab_type": "text"
      },
      "source": [
        "<a href=\"https://colab.research.google.com/github/pSN0W/AI_Practice/blob/main/k'Fold_KNN.ipynb\" target=\"_parent\"><img src=\"https://colab.research.google.com/assets/colab-badge.svg\" alt=\"Open In Colab\"/></a>"
      ]
    },
    {
      "cell_type": "markdown",
      "metadata": {
        "id": "jF9-W5xEOu9F"
      },
      "source": [
        "#Mounting Drive and Loading Data"
      ]
    },
    {
      "cell_type": "code",
      "metadata": {
        "colab": {
          "base_uri": "https://localhost:8080/"
        },
        "id": "HwTvf0NvWvo-",
        "outputId": "1fb2afdd-7775-4e1b-fccd-ec77b51b8310"
      },
      "source": [
        "from google.colab import drive\n",
        "drive.mount('/content/drive')"
      ],
      "execution_count": 1,
      "outputs": [
        {
          "output_type": "stream",
          "text": [
            "Mounted at /content/drive\n"
          ],
          "name": "stdout"
        }
      ]
    },
    {
      "cell_type": "code",
      "metadata": {
        "id": "Ori-bxgrPI5g"
      },
      "source": [
        "import os\n",
        "import pandas as pd\n",
        "import numpy as np\n"
      ],
      "execution_count": 2,
      "outputs": []
    },
    {
      "cell_type": "code",
      "metadata": {
        "colab": {
          "base_uri": "https://localhost:8080/",
          "height": 35
        },
        "id": "HlBCEdF5PNkw",
        "outputId": "aa1697ea-2b40-48dd-9673-b20e8221d5f7"
      },
      "source": [
        "os.getcwd()"
      ],
      "execution_count": 3,
      "outputs": [
        {
          "output_type": "execute_result",
          "data": {
            "application/vnd.google.colaboratory.intrinsic+json": {
              "type": "string"
            },
            "text/plain": [
              "'/content'"
            ]
          },
          "metadata": {
            "tags": []
          },
          "execution_count": 3
        }
      ]
    },
    {
      "cell_type": "code",
      "metadata": {
        "colab": {
          "base_uri": "https://localhost:8080/",
          "height": 35
        },
        "id": "QriO5IHuRRNX",
        "outputId": "8a72cab1-878f-4d32-e567-3bb93848c67d"
      },
      "source": [
        "os.chdir(\"/content/drive/MyDrive/Toy_datasets\")\n",
        "os.getcwd()"
      ],
      "execution_count": 4,
      "outputs": [
        {
          "output_type": "execute_result",
          "data": {
            "application/vnd.google.colaboratory.intrinsic+json": {
              "type": "string"
            },
            "text/plain": [
              "'/content/drive/MyDrive/Toy_datasets'"
            ]
          },
          "metadata": {
            "tags": []
          },
          "execution_count": 4
        }
      ]
    },
    {
      "cell_type": "code",
      "metadata": {
        "id": "KsDgM6EUS96t"
      },
      "source": [
        "concentric = np.array(pd.read_csv(\"concerticcir1.csv\"))"
      ],
      "execution_count": 5,
      "outputs": []
    },
    {
      "cell_type": "code",
      "metadata": {
        "colab": {
          "base_uri": "https://localhost:8080/"
        },
        "id": "NHCI7gwTXaEJ",
        "outputId": "3fe0af0d-1203-4c00-97b2-6ba6e87707d9"
      },
      "source": [
        "concentric.shape"
      ],
      "execution_count": 6,
      "outputs": [
        {
          "output_type": "execute_result",
          "data": {
            "text/plain": [
              "(99, 3)"
            ]
          },
          "metadata": {
            "tags": []
          },
          "execution_count": 6
        }
      ]
    },
    {
      "cell_type": "code",
      "metadata": {
        "id": "Lkn0mJWxYv88"
      },
      "source": [
        "X=concentric[:,:2]\n",
        "Y=concentric[:,2]"
      ],
      "execution_count": 8,
      "outputs": []
    },
    {
      "cell_type": "markdown",
      "metadata": {
        "id": "ydmfNfvoqPSC"
      },
      "source": [
        "#Importing Module"
      ]
    },
    {
      "cell_type": "code",
      "metadata": {
        "id": "0Bp_AW9tqTi5"
      },
      "source": [
        "import numpy as np\n",
        "import pandas as pd\n",
        "import matplotlib.pyplot as plt\n",
        "from sklearn.model_selection import train_test_split\n",
        "from sklearn.neighbors import KNeighborsClassifier\n",
        "from sklearn.metrics import accuracy_score\n",
        "from sklearn.model_selection import cross_val_score\n",
        "from collections import Counter\n",
        "from sklearn.metrics import accuracy_score\n",
        "from sklearn import model_selection"
      ],
      "execution_count": 13,
      "outputs": []
    },
    {
      "cell_type": "markdown",
      "metadata": {
        "id": "U_vkoTNkrRib"
      },
      "source": [
        "#Simple Cross Validation"
      ]
    },
    {
      "cell_type": "code",
      "metadata": {
        "id": "wVDDvCDqrVw2"
      },
      "source": [
        "#Splitting it in train test and cross validation data\n",
        "\n",
        "X_1,X_test,Y_1,Y_test = train_test_split(X,Y,test_size=0.3,random_state=0)\n",
        "X_train,X_cv,Y_train,Y_cv = train_test_split(X_1,Y_1,test_size=0.3,random_state=0)"
      ],
      "execution_count": 14,
      "outputs": []
    },
    {
      "cell_type": "code",
      "metadata": {
        "id": "D20SbK8wsuAU"
      },
      "source": [
        "#training the model\n",
        "\n",
        "train_error=[]\n",
        "cv_error=[]\n",
        "k_values=[]\n",
        "\n",
        "for i in range(1,30,2):\n",
        "  knn=KNeighborsClassifier(n_neighbors=i)\n",
        "  knn.fit(X_train,Y_train)\n",
        "\n",
        "  #Predict on Cross validation\n",
        "  pred_cv=knn.predict(X_cv)\n",
        "\n",
        "  #Predict on train\n",
        "  pred_train=knn.predict(X_train)\n",
        "\n",
        "  err_cv = 1 - accuracy_score(Y_cv,pred_cv)*float(1)\n",
        "  err_train = 1 - accuracy_score(Y_train,pred_train)*float(1)\n",
        "\n",
        "  train_error.append(err_train)\n",
        "  cv_error.append(err_cv)\n",
        "  k_values.append(i)"
      ],
      "execution_count": 15,
      "outputs": []
    },
    {
      "cell_type": "markdown",
      "metadata": {
        "id": "FnN7lN9mxbkL"
      },
      "source": [
        "##Plotting Train-Test errors"
      ]
    },
    {
      "cell_type": "code",
      "metadata": {
        "colab": {
          "base_uri": "https://localhost:8080/",
          "height": 444
        },
        "id": "wnTESa0LxWU7",
        "outputId": "321bf26e-869f-4bac-8e7d-2da14a3b9ec7"
      },
      "source": [
        "plt.figure(figsize=[8,6],dpi=80)\n",
        "plt.plot(k_values,cv_error,'g--',marker='x',label=\"Cross_Validation Error\")\n",
        "plt.plot(k_values,train_error,'r',marker='o',label=\"Train Error\")\n",
        "plt.xlabel(\"K-values\")\n",
        "plt.ylabel(\"Error\")\n",
        "plt.grid()\n",
        "plt.legend()"
      ],
      "execution_count": 24,
      "outputs": [
        {
          "output_type": "execute_result",
          "data": {
            "text/plain": [
              "<matplotlib.legend.Legend at 0x7f865fc10790>"
            ]
          },
          "metadata": {
            "tags": []
          },
          "execution_count": 24
        },
        {
          "output_type": "display_data",
          "data": {
            "image/png": "[encoded data removed]",
            "text/plain": [
              "<Figure size 640x480 with 1 Axes>"
            ]
          },
          "metadata": {
            "tags": [],
            "needs_background": "light"
          }
        }
      ]
    },
    {
      "cell_type": "markdown",
      "metadata": {
        "id": "eVDPEoQ40c3H"
      },
      "source": [
        "We get minimum error for k=1 so the k of our model will be 1"
      ]
    },
    {
      "cell_type": "code",
      "metadata": {
        "colab": {
          "base_uri": "https://localhost:8080/"
        },
        "id": "SLUfJKpi0nb-",
        "outputId": "670f0c22-e2b3-4374-d76a-9d9cb1b555eb"
      },
      "source": [
        "# making a KNN model for k=1\n",
        "\n",
        "knn=KNeighborsClassifier(n_neighbors=1)\n",
        "knn.fit(X_train,Y_train)\n",
        "pred_test = knn.predict(X_test)\n",
        "acc_test = accuracy_score(Y_test,pred_test)*float(100)\n",
        "print(\"The accuracy of the model is \",acc_test)"
      ],
      "execution_count": 26,
      "outputs": [
        {
          "output_type": "stream",
          "text": [
            "The accuracy of the model is  80.0\n"
          ],
          "name": "stdout"
        }
      ]
    },
    {
      "cell_type": "markdown",
      "metadata": {
        "id": "9y76tDqt1m2t"
      },
      "source": [
        "#10 Fold KNN"
      ]
    },
    {
      "cell_type": "code",
      "metadata": {
        "id": "bbdhuP1T1umI"
      },
      "source": [
        "cv_score=[]\n",
        "k_for_10_val=[]\n",
        "\n",
        "for i in range(1,30,2):\n",
        "  knn = KNeighborsClassifier(n_neighbors=i,n_jobs=-1)\n",
        "  scores = cross_val_score(knn,X_train,Y_train,cv=10,n_jobs=-1,scoring=\"accuracy\")\n",
        "  cv_score.append(np.median(scores))\n",
        "  k_for_10_val.append(i)\n"
      ],
      "execution_count": 34,
      "outputs": []
    },
    {
      "cell_type": "code",
      "metadata": {
        "colab": {
          "base_uri": "https://localhost:8080/"
        },
        "id": "yfkhRYNn4fpU",
        "outputId": "18015e1c-a30b-4875-bcd9-5f16000f55bc"
      },
      "source": [
        "#Calulating Error\n",
        "\n",
        "cv_score=np.array(cv_score)\n",
        "cv_error_10_fold = 1-cv_score\n",
        "optimal_k = k_for_10_val[np.argmin(cv_error_10_fold)]\n",
        "print(\"The minimum error is for k = \",optimal_k)"
      ],
      "execution_count": 40,
      "outputs": [
        {
          "output_type": "stream",
          "text": [
            "The minimum error is for k =  3\n"
          ],
          "name": "stdout"
        }
      ]
    },
    {
      "cell_type": "markdown",
      "metadata": {
        "id": "-Ip7BCf64-JO"
      },
      "source": [
        "##Plotting CV error"
      ]
    },
    {
      "cell_type": "code",
      "metadata": {
        "colab": {
          "base_uri": "https://localhost:8080/",
          "height": 461
        },
        "id": "HNj4xVSD5CNP",
        "outputId": "d3781e6e-98b8-4773-85d0-dccbdfe04b28"
      },
      "source": [
        "plt.figure(figsize=[8,6],dpi=80)\n",
        "plt.plot(k_for_10_val,cv_error_10_fold,\"r--\",marker=\"x\")\n",
        "plt.xlabel(\"K Values\")\n",
        "plt.ylabel(\"Error \")\n",
        "plt.title(\"10 fold CV error graph\")"
      ],
      "execution_count": 42,
      "outputs": [
        {
          "output_type": "execute_result",
          "data": {
            "text/plain": [
              "Text(0.5, 1.0, '10 fold CV error graph')"
            ]
          },
          "metadata": {
            "tags": []
          },
          "execution_count": 42
        },
        {
          "output_type": "display_data",
          "data": {
            "image/png": "[encoded data removed]",
            "text/plain": [
              "<Figure size 640x480 with 1 Axes>"
            ]
          },
          "metadata": {
            "tags": [],
            "needs_background": "light"
          }
        }
      ]
    },
    {
      "cell_type": "code",
      "metadata": {
        "colab": {
          "base_uri": "https://localhost:8080/"
        },
        "id": "ylfFQGjc827-",
        "outputId": "2849a1da-d4d0-4f8b-c5f3-b1d2cad0d043"
      },
      "source": [
        "knn = KNeighborsClassifier(n_neighbors=3,n_jobs=-1)\n",
        "knn.fit(X_train,Y_train)\n",
        "pred = knn.predict(X_test)\n",
        "acc = accuracy_score(Y_test,pred)\n",
        "print(\"The accuracy of the model is \",acc*100)"
      ],
      "execution_count": 43,
      "outputs": [
        {
          "output_type": "stream",
          "text": [
            "The accuracy of the model is  83.33333333333334\n"
          ],
          "name": "stdout"
        }
      ]
    }
  ]
}