{
  "nbformat": 4,
  "nbformat_minor": 0,
  "metadata": {
    "colab": {
      "name": "Naive_Bayes.ipynb",
      "provenance": [],
      "authorship_tag": "ABX9TyPHxKagqtoStfXi8pWtum7y",
      "include_colab_link": true
    },
    "kernelspec": {
      "name": "python3",
      "display_name": "Python 3"
    },
    "language_info": {
      "name": "python"
    },
    "widgets": {
      "application/vnd.jupyter.widget-state+json": {
        "5899409e5cf94e838f85dea571153f11": {
          "model_module": "@jupyter-widgets/controls",
          "model_name": "HBoxModel",
          "state": {
            "_view_name": "HBoxView",
            "_dom_classes": [],
            "_model_name": "HBoxModel",
            "_view_module": "@jupyter-widgets/controls",
            "_model_module_version": "1.5.0",
            "_view_count": null,
            "_view_module_version": "1.5.0",
            "box_style": "",
            "layout": "IPY_MODEL_bca3f70ada284003a7b04beed885f376",
            "_model_module": "@jupyter-widgets/controls",
            "children": [
              "IPY_MODEL_1b8e38e16e4340029950660e5b69d081",
              "IPY_MODEL_9abd4b48a8bf4277b8ba2a1b9828b7fd"
            ]
          }
        },
        "bca3f70ada284003a7b04beed885f376": {
          "model_module": "@jupyter-widgets/base",
          "model_name": "LayoutModel",
          "state": {
            "_view_name": "LayoutView",
            "grid_template_rows": null,
            "right": null,
            "justify_content": null,
            "_view_module": "@jupyter-widgets/base",
            "overflow": null,
            "_model_module_version": "1.2.0",
            "_view_count": null,
            "flex_flow": null,
            "width": null,
            "min_width": null,
            "border": null,
            "align_items": null,
            "bottom": null,
            "_model_module": "@jupyter-widgets/base",
            "top": null,
            "grid_column": null,
            "overflow_y": null,
            "overflow_x": null,
            "grid_auto_flow": null,
            "grid_area": null,
            "grid_template_columns": null,
            "flex": null,
            "_model_name": "LayoutModel",
            "justify_items": null,
            "grid_row": null,
            "max_height": null,
            "align_content": null,
            "visibility": null,
            "align_self": null,
            "height": null,
            "min_height": null,
            "padding": null,
            "grid_auto_rows": null,
            "grid_gap": null,
            "max_width": null,
            "order": null,
            "_view_module_version": "1.2.0",
            "grid_template_areas": null,
            "object_position": null,
            "object_fit": null,
            "grid_auto_columns": null,
            "margin": null,
            "display": null,
            "left": null
          }
        },
        "1b8e38e16e4340029950660e5b69d081": {
          "model_module": "@jupyter-widgets/controls",
          "model_name": "FloatProgressModel",
          "state": {
            "_view_name": "ProgressView",
            "style": "IPY_MODEL_576ed22f76544ed28a1e9c459e1f855b",
            "_dom_classes": [],
            "description": "100%",
            "_model_name": "FloatProgressModel",
            "bar_style": "success",
            "max": 399,
            "_view_module": "@jupyter-widgets/controls",
            "_model_module_version": "1.5.0",
            "value": 399,
            "_view_count": null,
            "_view_module_version": "1.5.0",
            "orientation": "horizontal",
            "min": 0,
            "description_tooltip": null,
            "_model_module": "@jupyter-widgets/controls",
            "layout": "IPY_MODEL_c42210f1434c432b9744fb7ced4ea344"
          }
        },
        "9abd4b48a8bf4277b8ba2a1b9828b7fd": {
          "model_module": "@jupyter-widgets/controls",
          "model_name": "HTMLModel",
          "state": {
            "_view_name": "HTMLView",
            "style": "IPY_MODEL_0236d2d4fb8646728e69a62640a5ceaf",
            "_dom_classes": [],
            "description": "",
            "_model_name": "HTMLModel",
            "placeholder": "​",
            "_view_module": "@jupyter-widgets/controls",
            "_model_module_version": "1.5.0",
            "value": " 399/399 [00:09&lt;00:00, 43.39it/s]",
            "_view_count": null,
            "_view_module_version": "1.5.0",
            "description_tooltip": null,
            "_model_module": "@jupyter-widgets/controls",
            "layout": "IPY_MODEL_ca98241fe3fb4722a0d392794eb2e415"
          }
        },
        "576ed22f76544ed28a1e9c459e1f855b": {
          "model_module": "@jupyter-widgets/controls",
          "model_name": "ProgressStyleModel",
          "state": {
            "_view_name": "StyleView",
            "_model_name": "ProgressStyleModel",
            "description_width": "initial",
            "_view_module": "@jupyter-widgets/base",
            "_model_module_version": "1.5.0",
            "_view_count": null,
            "_view_module_version": "1.2.0",
            "bar_color": null,
            "_model_module": "@jupyter-widgets/controls"
          }
        },
        "c42210f1434c432b9744fb7ced4ea344": {
          "model_module": "@jupyter-widgets/base",
          "model_name": "LayoutModel",
          "state": {
            "_view_name": "LayoutView",
            "grid_template_rows": null,
            "right": null,
            "justify_content": null,
            "_view_module": "@jupyter-widgets/base",
            "overflow": null,
            "_model_module_version": "1.2.0",
            "_view_count": null,
            "flex_flow": null,
            "width": null,
            "min_width": null,
            "border": null,
            "align_items": null,
            "bottom": null,
            "_model_module": "@jupyter-widgets/base",
            "top": null,
            "grid_column": null,
            "overflow_y": null,
            "overflow_x": null,
            "grid_auto_flow": null,
            "grid_area": null,
            "grid_template_columns": null,
            "flex": null,
            "_model_name": "LayoutModel",
            "justify_items": null,
            "grid_row": null,
            "max_height": null,
            "align_content": null,
            "visibility": null,
            "align_self": null,
            "height": null,
            "min_height": null,
            "padding": null,
            "grid_auto_rows": null,
            "grid_gap": null,
            "max_width": null,
            "order": null,
            "_view_module_version": "1.2.0",
            "grid_template_areas": null,
            "object_position": null,
            "object_fit": null,
            "grid_auto_columns": null,
            "margin": null,
            "display": null,
            "left": null
          }
        },
        "0236d2d4fb8646728e69a62640a5ceaf": {
          "model_module": "@jupyter-widgets/controls",
          "model_name": "DescriptionStyleModel",
          "state": {
            "_view_name": "StyleView",
            "_model_name": "DescriptionStyleModel",
            "description_width": "",
            "_view_module": "@jupyter-widgets/base",
            "_model_module_version": "1.5.0",
            "_view_count": null,
            "_view_module_version": "1.2.0",
            "_model_module": "@jupyter-widgets/controls"
          }
        },
        "ca98241fe3fb4722a0d392794eb2e415": {
          "model_module": "@jupyter-widgets/base",
          "model_name": "LayoutModel",
          "state": {
            "_view_name": "LayoutView",
            "grid_template_rows": null,
            "right": null,
            "justify_content": null,
            "_view_module": "@jupyter-widgets/base",
            "overflow": null,
            "_model_module_version": "1.2.0",
            "_view_count": null,
            "flex_flow": null,
            "width": null,
            "min_width": null,
            "border": null,
            "align_items": null,
            "bottom": null,
            "_model_module": "@jupyter-widgets/base",
            "top": null,
            "grid_column": null,
            "overflow_y": null,
            "overflow_x": null,
            "grid_auto_flow": null,
            "grid_area": null,
            "grid_template_columns": null,
            "flex": null,
            "_model_name": "LayoutModel",
            "justify_items": null,
            "grid_row": null,
            "max_height": null,
            "align_content": null,
            "visibility": null,
            "align_self": null,
            "height": null,
            "min_height": null,
            "padding": null,
            "grid_auto_rows": null,
            "grid_gap": null,
            "max_width": null,
            "order": null,
            "_view_module_version": "1.2.0",
            "grid_template_areas": null,
            "object_position": null,
            "object_fit": null,
            "grid_auto_columns": null,
            "margin": null,
            "display": null,
            "left": null
          }
        }
      }
    }
  },
  "cells": [
    {
      "cell_type": "markdown",
      "metadata": {
        "id": "view-in-github",
        "colab_type": "text"
      },
      "source": [
        "<a href=\"https://colab.research.google.com/github/pSN0W/AI_Practice/blob/main/Naive_Bayes.ipynb\" target=\"_parent\"><img src=\"https://colab.research.google.com/assets/colab-badge.svg\" alt=\"Open In Colab\"/></a>"
      ]
    },
    {
      "cell_type": "markdown",
      "metadata": {
        "id": "jF9-W5xEOu9F"
      },
      "source": [
        "#Mounting Drive and Loading Data"
      ]
    },
    {
      "cell_type": "code",
      "metadata": {
        "colab": {
          "base_uri": "https://localhost:8080/"
        },
        "id": "HwTvf0NvWvo-",
        "outputId": "641aac78-8a91-45fd-98bf-242f25b90e22"
      },
      "source": [
        "from google.colab import drive\n",
        "drive.mount('/content/drive')"
      ],
      "execution_count": 1,
      "outputs": [
        {
          "output_type": "stream",
          "text": [
            "Mounted at /content/drive\n"
          ],
          "name": "stdout"
        }
      ]
    },
    {
      "cell_type": "code",
      "metadata": {
        "id": "Ori-bxgrPI5g"
      },
      "source": [
        "import os\n",
        "import pandas as pd\n",
        "import numpy as np\n"
      ],
      "execution_count": 2,
      "outputs": []
    },
    {
      "cell_type": "code",
      "metadata": {
        "colab": {
          "base_uri": "https://localhost:8080/",
          "height": 35
        },
        "id": "HlBCEdF5PNkw",
        "outputId": "384ccb99-aca9-404b-a55a-1a7542815f01"
      },
      "source": [
        "os.getcwd()"
      ],
      "execution_count": 3,
      "outputs": [
        {
          "output_type": "execute_result",
          "data": {
            "application/vnd.google.colaboratory.intrinsic+json": {
              "type": "string"
            },
            "text/plain": [
              "'/content'"
            ]
          },
          "metadata": {
            "tags": []
          },
          "execution_count": 3
        }
      ]
    },
    {
      "cell_type": "code",
      "metadata": {
        "colab": {
          "base_uri": "https://localhost:8080/",
          "height": 35
        },
        "id": "QriO5IHuRRNX",
        "outputId": "2559ff26-43e4-4640-8a17-613366891085"
      },
      "source": [
        "os.chdir(\"/content/drive/MyDrive/Toy_datasets\")\n",
        "os.getcwd()"
      ],
      "execution_count": 4,
      "outputs": [
        {
          "output_type": "execute_result",
          "data": {
            "application/vnd.google.colaboratory.intrinsic+json": {
              "type": "string"
            },
            "text/plain": [
              "'/content/drive/MyDrive/Toy_datasets'"
            ]
          },
          "metadata": {
            "tags": []
          },
          "execution_count": 4
        }
      ]
    },
    {
      "cell_type": "code",
      "metadata": {
        "id": "KsDgM6EUS96t"
      },
      "source": [
        "concentric = np.array(pd.read_csv(\"concerticcir1.csv\"))"
      ],
      "execution_count": 5,
      "outputs": []
    },
    {
      "cell_type": "code",
      "metadata": {
        "colab": {
          "base_uri": "https://localhost:8080/"
        },
        "id": "NHCI7gwTXaEJ",
        "outputId": "ccfceeb4-5abd-4f2e-e9fe-17883663e825"
      },
      "source": [
        "concentric.shape"
      ],
      "execution_count": 6,
      "outputs": [
        {
          "output_type": "execute_result",
          "data": {
            "text/plain": [
              "(99, 3)"
            ]
          },
          "metadata": {
            "tags": []
          },
          "execution_count": 6
        }
      ]
    },
    {
      "cell_type": "code",
      "metadata": {
        "id": "Lkn0mJWxYv88"
      },
      "source": [
        "X=concentric[:,:2]\n",
        "Y=concentric[:,2]"
      ],
      "execution_count": 7,
      "outputs": []
    },
    {
      "cell_type": "markdown",
      "metadata": {
        "id": "ydmfNfvoqPSC"
      },
      "source": [
        "#Importing Module"
      ]
    },
    {
      "cell_type": "code",
      "metadata": {
        "id": "0Bp_AW9tqTi5"
      },
      "source": [
        "import numpy as np\n",
        "import pandas as pd\n",
        "import matplotlib.pyplot as plt\n",
        "from sklearn.model_selection import train_test_split\n",
        "from sklearn.naive_bayes import BernoulliNB\n",
        "from sklearn.metrics import accuracy_score\n",
        "from sklearn.metrics import log_loss\n",
        "from sklearn.model_selection import cross_val_score\n",
        "from collections import Counter\n",
        "from sklearn.metrics import accuracy_score\n",
        "from sklearn import model_selection\n",
        "import tqdm.notebook as tq"
      ],
      "execution_count": 19,
      "outputs": []
    },
    {
      "cell_type": "markdown",
      "metadata": {
        "id": "LtPwTK_2v_Xt"
      },
      "source": [
        "#Naive Bayes"
      ]
    },
    {
      "cell_type": "markdown",
      "metadata": {
        "id": "CnIrfvWzwFS2"
      },
      "source": [
        "## Code"
      ]
    },
    {
      "cell_type": "code",
      "metadata": {
        "id": "hhyjTlvUwJ4j"
      },
      "source": [
        "# Splitting data\n",
        "\n",
        "X_1,X_test,Y_1,T_test = train_test_split(X,Y,test_size=0.3,random_state=0)\n",
        "X_train,X_cv,Y_train,Y_cv = train_test_split(X_1,Y_1,test_size = 0.3,random_state = 0)\n"
      ],
      "execution_count": 10,
      "outputs": []
    },
    {
      "cell_type": "code",
      "metadata": {
        "colab": {
          "base_uri": "https://localhost:8080/",
          "height": 66,
          "referenced_widgets": [
            "5899409e5cf94e838f85dea571153f11",
            "bca3f70ada284003a7b04beed885f376",
            "1b8e38e16e4340029950660e5b69d081",
            "9abd4b48a8bf4277b8ba2a1b9828b7fd",
            "576ed22f76544ed28a1e9c459e1f855b",
            "c42210f1434c432b9744fb7ced4ea344",
            "0236d2d4fb8646728e69a62640a5ceaf",
            "ca98241fe3fb4722a0d392794eb2e415"
          ]
        },
        "id": "gXYfldCAxR-R",
        "outputId": "822c580d-53c2-4518-b6f0-c20bf2a154bc"
      },
      "source": [
        "# Making model\n",
        "\n",
        "alpha = np.arange(1,400)\n",
        "train_error = []\n",
        "cv_error = []\n",
        "\n",
        "for i in tq.tqdm(alpha):\n",
        "  n_b =BernoulliNB(alpha=i)\n",
        "  n_b.fit(X_train,Y_train)\n",
        "  err_cv = log_loss(Y_cv,n_b.predict_proba(X_cv))\n",
        "  err_train = log_loss(Y_train,n_b.predict_proba(X_train))\n",
        "  train_error.append(err_train)\n",
        "  cv_error.append(err_cv)"
      ],
      "execution_count": 33,
      "outputs": [
        {
          "output_type": "display_data",
          "data": {
            "application/vnd.jupyter.widget-view+json": {
              "model_id": "5899409e5cf94e838f85dea571153f11",
              "version_minor": 0,
              "version_major": 2
            },
            "text/plain": [
              "HBox(children=(FloatProgress(value=0.0, max=399.0), HTML(value='')))"
            ]
          },
          "metadata": {
            "tags": []
          }
        },
        {
          "output_type": "stream",
          "text": [
            "\n"
          ],
          "name": "stdout"
        }
      ]
    },
    {
      "cell_type": "markdown",
      "metadata": {
        "id": "jx9v4OR222h-"
      },
      "source": [
        "##Plotting"
      ]
    },
    {
      "cell_type": "code",
      "metadata": {
        "colab": {
          "base_uri": "https://localhost:8080/",
          "height": 582
        },
        "id": "ssCkZgx82k5s",
        "outputId": "3034b38d-89e7-4b60-bf97-4e091a423059"
      },
      "source": [
        "plt.figure(figsize=[15,8],dpi=80)\n",
        "plt.plot(alpha,cv_error,\"g--\",marker=\"x\",label=\"CV_error\")\n",
        "plt.plot(alpha,train_error,\"r\",marker=\"o\",label=\"Train_error\")\n",
        "plt.grid()\n",
        "plt.legend()\n",
        "plt.xlabel(\"alpha\")\n",
        "plt.ylabel(\"Error\")\n",
        "plt.title(\"Bernoulli Naive Bayes Plot\")"
      ],
      "execution_count": 34,
      "outputs": [
        {
          "output_type": "execute_result",
          "data": {
            "text/plain": [
              "Text(0.5, 1.0, 'Bernoulli Naive Bayes Plot')"
            ]
          },
          "metadata": {
            "tags": []
          },
          "execution_count": 34
        },
        {
          "output_type": "display_data",
          "data": {
            "image/png": "[encoded data removed]",
            "text/plain": [
              "<Figure size 1200x640 with 1 Axes>"
            ]
          },
          "metadata": {
            "tags": [],
            "needs_background": "light"
          }
        }
      ]
    },
    {
      "cell_type": "code",
      "metadata": {
        "colab": {
          "base_uri": "https://localhost:8080/",
          "height": 582
        },
        "id": "RYvQjnUU5fz-",
        "outputId": "fb8e1577-34b8-4c75-dd64-67e711743ea9"
      },
      "source": [
        "plt.figure(figsize=[15,8],dpi=80)\n",
        "plt.plot(alpha[:60],cv_error[:60],\"g--\",marker=\"x\",label=\"CV_error\")\n",
        "plt.plot(alpha[:60],train_error[:60],\"r\",marker=\"o\",label=\"Train_error\")\n",
        "plt.grid()\n",
        "plt.legend()\n",
        "plt.xlabel(\"alpha\")\n",
        "plt.ylabel(\"Error\")\n",
        "plt.title(\"Bernoulli Naive Bayes Plot\")"
      ],
      "execution_count": 35,
      "outputs": [
        {
          "output_type": "execute_result",
          "data": {
            "text/plain": [
              "Text(0.5, 1.0, 'Bernoulli Naive Bayes Plot')"
            ]
          },
          "metadata": {
            "tags": []
          },
          "execution_count": 35
        },
        {
          "output_type": "display_data",
          "data": {
            "image/png": "[encoded data removed]",
            "text/plain": [
              "<Figure size 1200x640 with 1 Axes>"
            ]
          },
          "metadata": {
            "tags": [],
            "needs_background": "light"
          }
        }
      ]
    },
    {
      "cell_type": "markdown",
      "metadata": {
        "id": "U2W7ttSO5wEb"
      },
      "source": [
        "<b> Best for alpha = 60</b>"
      ]
    },
    {
      "cell_type": "markdown",
      "metadata": {
        "id": "phLEt9sQ57Np"
      },
      "source": [
        "##Finding accuracy on test data"
      ]
    },
    {
      "cell_type": "code",
      "metadata": {
        "colab": {
          "base_uri": "https://localhost:8080/"
        },
        "id": "xaSpeP5r5ve5",
        "outputId": "77f2fd01-8cd8-4843-86ac-32b4304456df"
      },
      "source": [
        "n_b = BernoulliNB(alpha = 60)\n",
        "n_b.fit(X_train,Y_train)\n",
        "acc = accuracy_score(T_test,n_b.predict(X_test))*100\n",
        "log = log_loss(T_test,n_b.predict_proba(X_test))\n",
        "print(\"Model has an accuracy of {} and log loss of {} for alpha = 60\".format(acc,log)) "
      ],
      "execution_count": 38,
      "outputs": [
        {
          "output_type": "stream",
          "text": [
            "Model has an accuracy of 43.333333333333336 and log loss of 0.7179002664098756 for alpha = 60\n"
          ],
          "name": "stdout"
        }
      ]
    },
    {
      "cell_type": "markdown",
      "metadata": {
        "id": "4lDtMfnl7Hp4"
      },
      "source": [
        "##Naive Bayes doesn't work well with real datas"
      ]
    }
  ]
}